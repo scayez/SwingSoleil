{
 "cells": [
  {
   "cell_type": "code",
   "execution_count": 1,
   "metadata": {},
   "outputs": [
    {
     "name": "stderr",
     "output_type": "stream",
     "text": [
      "WARNING:silx.opencl.common:Unable to import pyOpenCl. Please install it from: https://pypi.org/project/pyopencl\n"
     ]
    },
    {
     "name": "stdout",
     "output_type": "stream",
     "text": [
      "CPU times: user 2.04 s, sys: 63.8 ms, total: 2.1 s\n",
      "Wall time: 601 ms\n"
     ]
    }
   ],
   "source": [
    "%%time\n",
    "import nxs_integrate\n",
    "#import display_anim\n",
    "import glob\n",
    "import os\n",
    "from IPython.display import clear_output\n",
    "import numpy as np\n",
    "from matplotlib import pyplot as plt\n",
    "import matplotlib.patches as patches\n",
    "from IPython.display import HTML\n",
    "import h5_integrate as integ\n",
    "from IPython.display import clear_output\n",
    "from moviepy.editor import ImageSequenceClip\n",
    "%matplotlib widget"
   ]
  },
  {
   "cell_type": "markdown",
   "metadata": {},
   "source": [
    "## Data extraction from h5\n",
    "\n",
    "The test data correspond to Co13_2_500. \n",
    "We will integrate using sectors of 20° wide (+ or - 10°)"
   ]
  },
  {
   "cell_type": "code",
   "execution_count": 2,
   "metadata": {},
   "outputs": [
    {
     "name": "stdout",
     "output_type": "stream",
     "text": [
      "File 24 out  of 24  files in the directory /home-local/ratel-ra/Documents/SAXS_data/SAXS_SWING/20231871/test/feb36_85_ind5\n",
      "lacroix_00298_2024-07-19_19-27-16.h5\n"
     ]
    }
   ],
   "source": [
    "data_dir='/home-local/ratel-ra/Documents/SAXS_data/SAXS_SWING/20231871/test/feb36_85_ind5'\n",
    "mask='/home-local/ratel-ra/Documents/SAXS_data/SAXS_SWING/20231871/mask.edf'\n",
    "dir=integ.extract_h5_from_dir(data_dir,10,maskfile=mask)\n",
    "\n",
    "      "
   ]
  },
  {
   "cell_type": "markdown",
   "metadata": {},
   "source": [
    "## Definition of working directories"
   ]
  },
  {
   "cell_type": "code",
   "execution_count": 3,
   "metadata": {},
   "outputs": [],
   "source": [
    "# to avoid reexectuion of the above cell, we redefine dir\n",
    "#dir='/home-local/ratel-ra/Documents/SAXS_data/SAXS_SWING/20231871/test/co13_2_500'"
   ]
  },
  {
   "cell_type": "markdown",
   "metadata": {},
   "source": [
    "## Load Numpy files extracted from h5"
   ]
  },
  {
   "cell_type": "code",
   "execution_count": 15,
   "metadata": {},
   "outputs": [],
   "source": [
    "image_file_list=glob.glob(dir+'/image/'+'*.npy')\n",
    "image_file_list=sorted(image_file_list,key=integ.extract_number)\n",
    "positions_file_list=glob.glob(dir+'/positions/'+'*.npy')\n",
    "positions_file_list=sorted(positions_file_list,key=integ.extract_number)\n",
    "intensities_file_list=glob.glob(dir+'/integration/'+'*_integrations.npy')\n",
    "intensities_file_list=sorted(intensities_file_list,key=integ.extract_number)\n",
    "q_file=glob.glob(dir+'/integration/'+'*_q.npy')[0]\n",
    "basler_image_file=glob.glob(dir+'/basler_image/'+'*.npy')[0]"
   ]
  },
  {
   "cell_type": "markdown",
   "metadata": {},
   "source": [
    "## Data visualization\n",
    "\n",
    "1 numpy file is 1 line"
   ]
  },
  {
   "cell_type": "code",
   "execution_count": 16,
   "metadata": {},
   "outputs": [],
   "source": [
    "def read_numpy_from_list(file_list):\n",
    "    #dimension of a single numpy file corresponding to a file\n",
    "    size=np.shape(np.load(file_list[0]))\n",
    "    #print('size',size)\n",
    "    shape=np.concatenate((np.array([len(file_list)]),size))\n",
    "    #print('shape',shape)\n",
    "    image = np.zeros(shape)\n",
    "\n",
    "    for i, file in  enumerate(file_list):\n",
    "        line = np.load(file)\n",
    "        #print(i,line)\n",
    "        image[i] = line\n",
    "    return image"
   ]
  },
  {
   "cell_type": "code",
   "execution_count": 17,
   "metadata": {},
   "outputs": [
    {
     "name": "stdout",
     "output_type": "stream",
     "text": [
      "(24, 10, 1083, 1035)\n"
     ]
    }
   ],
   "source": [
    "image = read_numpy_from_list(image_file_list)\n",
    "print(image.shape)\n"
   ]
  },
  {
   "cell_type": "code",
   "execution_count": 18,
   "metadata": {},
   "outputs": [
    {
     "data": {
      "text/plain": [
       "<matplotlib.image.AxesImage at 0x7ff9d9210ad0>"
      ]
     },
     "execution_count": 18,
     "metadata": {},
     "output_type": "execute_result"
    }
   ],
   "source": [
    "fig,ax=plt.subplots()\n",
    "ax.imshow(image[0][0],cmap='viridis')"
   ]
  },
  {
   "cell_type": "code",
   "execution_count": 19,
   "metadata": {},
   "outputs": [],
   "source": [
    "positions=read_numpy_from_list(positions_file_list)\n",
    "#print(positions)\n",
    "x=positions[:,:,0]\n",
    "z=positions[:,:,1]\n"
   ]
  },
  {
   "cell_type": "code",
   "execution_count": 20,
   "metadata": {},
   "outputs": [
    {
     "name": "stdout",
     "output_type": "stream",
     "text": [
      "origin_xz [14.0996 23.3496]\n"
     ]
    }
   ],
   "source": [
    "basler_image=np.load(basler_image_file)\n",
    "fig,ax=plt.subplots()\n",
    "ax.imshow(basler_image,cmap='gray')\n",
    "\n",
    "#Origin of mapping in lab coordinates (tx4,tz4)\n",
    "origin_xz=np.array([np.min(x),np.min(z)],dtype=float)\n",
    "print('origin_xz',origin_xz)\n",
    "\n",
    "#Convert in µm\n",
    "x_microns=x*1000\n",
    "z_microns=z*1000\n",
    "\n",
    "#ax.scatter(x_microns,z_microns,marker='+')\n",
    "\n",
    "x_pixels=x_microns/3.73\n",
    "z_pixels=z_microns/3.67\n",
    "\n",
    "x_offset=3582\n",
    "z_offset=6138\n",
    "\n",
    "x_pixels_ok=x_pixels-x_offset\n",
    "z_pixels_ok=z_pixels-z_offset\n",
    "\n",
    "\n",
    "ax.scatter(x_pixels_ok,z_pixels_ok,s=5,marker='.')\n",
    "# from the beamline settings, we know the coordinates of the beam\n",
    "origin_pixel=np.array([186,309],dtype=float)\n",
    "\n",
    "# # #Calculate x grid in pixel coordinates\n",
    "# x_steps=x_microns+origin_xz[0]\n",
    "# x_steps_pixel=x_steps*6.702\n",
    "# x_pixels=x_steps_pixel-origin_pixel[0]\n",
    "# print(x_pixels)\n",
    "# # # Calculate z grid in pixel coordinates\n",
    "# z_steps=z_microns+origin_xz[1]\n",
    "#  #print(z_steps)\n",
    "# z_steps_pixel=z_steps*6.812\n",
    "# print(z_steps_pixel)\n",
    "# z_pixels=z_steps_pixel+origin_pixel[1]\n",
    "# print(z_pixels)\n",
    "#plt.scatter(origin_pixel[0],origin_pixel[1],marker='*',color='r')\n",
    "#plt.scatter(x,z,marker='+')"
   ]
  },
  {
   "cell_type": "code",
   "execution_count": 21,
   "metadata": {},
   "outputs": [
    {
     "name": "stdout",
     "output_type": "stream",
     "text": [
      "(3, 1000)\n",
      "(1000,) (1000,) (1000,)\n",
      "(24, 10, 3, 1000)\n"
     ]
    },
    {
     "data": {
      "text/plain": [
       "<matplotlib.legend.Legend at 0x7ff9ddd35f10>"
      ]
     },
     "execution_count": 21,
     "metadata": {},
     "output_type": "execute_result"
    }
   ],
   "source": [
    "integrations=read_numpy_from_list(intensities_file_list)\n",
    "q_array=np.load(q_file)\n",
    "print(q_array.shape)\n",
    "qh=q_array[0]\n",
    "qv=q_array[1]\n",
    "q_iso=q_array[2]\n",
    "print(qh.shape,qv.shape,q_iso.shape)\n",
    "print(integrations.shape)\n",
    "fig,ax=plt.subplots()\n",
    "ax.loglog(qh,integrations[0,0,0,:],label='h')\n",
    "#ax.loglog(qh,integrations[0][0][0])\n",
    "ax.loglog(qv,integrations[0,0,1,:],label='v')\n",
    "ax.loglog(q_iso,integrations[0,0,2,:],label='iso')\n",
    "ax.legend()"
   ]
  },
  {
   "cell_type": "code",
   "execution_count": 22,
   "metadata": {},
   "outputs": [],
   "source": [
    "fig,ax=plt.subplots(1,3,figsize=(15,5))\n",
    "ax[0].imshow(image[0][0],cmap='viridis')\n",
    "\n",
    "ax[1].imshow(basler_image,cmap='gray')\n",
    "ax[1].scatter(x_pixels_ok,z_pixels_ok,s=5,marker='.',color='b')\n",
    "ax[1].scatter(x_pixels_ok[0][0],z_pixels_ok[0][0],s=10,marker='*',color='r')\n",
    "\n",
    "ax[2].loglog(qh,integrations[0,0,0,:],label='h')\n",
    "#ax.loglog(qh,integrations[0][0][0])\n",
    "ax[2].loglog(qv,integrations[0,0,1,:],label='v')\n",
    "ax[2].loglog(q_iso,integrations[0,0,2,:],label='iso')\n",
    "ax[2].legend()\n",
    "plt.tight_layout()\n"
   ]
  },
  {
   "cell_type": "code",
   "execution_count": 23,
   "metadata": {},
   "outputs": [
    {
     "name": "stdout",
     "output_type": "stream",
     "text": [
      "File 240  out of 240 \n"
     ]
    }
   ],
   "source": [
    "samplename=data_dir.split('/')[-1]\n",
    "\n",
    "nbre_lignes=integrations.shape[0]\n",
    "nbre_colonnes=integrations.shape[1]\n",
    "plotdir=dir+'/plots'\n",
    "os.makedirs(plotdir,exist_ok=True)\n",
    "plt.ioff()\n",
    "k=1\n",
    "nbre_fichiers=nbre_colonnes*nbre_lignes\n",
    "for i in range (nbre_lignes):\n",
    "    for j in range(nbre_colonnes):\n",
    "        fig,ax=plt.subplots(1,3,figsize=(15,5))\n",
    "        ax[0].imshow(image[i][j],cmap='viridis')\n",
    "\n",
    "        ax[1].imshow(basler_image,cmap='gray')\n",
    "        ax[1].scatter(x_pixels_ok,z_pixels_ok,s=5,marker='.',color='b')\n",
    "        ax[1].scatter(x_pixels_ok[i][j],z_pixels_ok[i][j],s=10,marker='*',color='r')\n",
    "\n",
    "        ax[2].loglog(qh,integrations[i,j,0,:],label='h')\n",
    "        #ax.loglog(qh,integrations[0][0][0])\n",
    "        ax[2].loglog(qv,integrations[i,j,1,:],label='v')\n",
    "        ax[2].loglog(q_iso,integrations[i,j,2,:],label='iso')\n",
    "        ax[2].legend()\n",
    "        fig.suptitle(samplename+'x=%.2f'%x[i,j]+', z=%.2f'%z[i,j])\n",
    "        figname=plotdir+'/plot_line%02d'%i+'_column%02d'%j+'.png'\n",
    "        \n",
    "        plt.tight_layout()\n",
    "        plt.savefig(figname)\n",
    "        print('File %d'%k, ' out of %d '%nbre_fichiers)\n",
    "        clear_output(wait=True)\n",
    "        k+=1\n",
    "      \n",
    "        \n"
   ]
  },
  {
   "cell_type": "code",
   "execution_count": 24,
   "metadata": {},
   "outputs": [
    {
     "name": "stdout",
     "output_type": "stream",
     "text": [
      "Moviepy - Building video /home-local/ratel-ra/Documents/SAXS_data/SAXS_SWING/20231871/test/feb36_85_ind5/Feb36_85_ind5/plots/feb36_85_ind5_video.mp4.\n",
      "Moviepy - Writing video /home-local/ratel-ra/Documents/SAXS_data/SAXS_SWING/20231871/test/feb36_85_ind5/Feb36_85_ind5/plots/feb36_85_ind5_video.mp4\n",
      "\n"
     ]
    },
    {
     "name": "stderr",
     "output_type": "stream",
     "text": [
      "                                                              \r"
     ]
    },
    {
     "name": "stdout",
     "output_type": "stream",
     "text": [
      "Moviepy - Done !\n",
      "Moviepy - video ready /home-local/ratel-ra/Documents/SAXS_data/SAXS_SWING/20231871/test/feb36_85_ind5/Feb36_85_ind5/plots/feb36_85_ind5_video.mp4\n"
     ]
    }
   ],
   "source": [
    " #Specify the path to your images\n",
    "image_folder = plotdir\n",
    "plotfile_list=[]\n",
    "for i in range(nbre_lignes):\n",
    "    for j in range (nbre_colonnes):\n",
    "        plotfile_list.append('plot_line%02d'%i+'_column%02d'%j+'.png')\n",
    "\n",
    "image_files = [f'{image_folder}/{file}' for file in plotfile_list]  # Adjust the range and naming as needed\n",
    "\n",
    "# Create a video clip from the images\n",
    "clip = ImageSequenceClip(image_files, fps=12)  # Set the desired frames per second (fps)\n",
    "\n",
    "# Write the video file\n",
    "clip.write_videofile(plotdir+'/'+f'{samplename}_video.mp4', codec='libx264')  # Output video file"
   ]
  }
 ],
 "metadata": {
  "kernelspec": {
   "display_name": "py311",
   "language": "python",
   "name": "python3"
  },
  "language_info": {
   "codemirror_mode": {
    "name": "ipython",
    "version": 3
   },
   "file_extension": ".py",
   "mimetype": "text/x-python",
   "name": "python",
   "nbconvert_exporter": "python",
   "pygments_lexer": "ipython3",
   "version": "3.11.9"
  }
 },
 "nbformat": 4,
 "nbformat_minor": 2
}
