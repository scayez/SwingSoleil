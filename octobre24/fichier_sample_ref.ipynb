{
 "cells": [
  {
   "cell_type": "markdown",
   "metadata": {},
   "source": [
    "# <center><u>RUN SWING SOLEIL octobre24</u></center>"
   ]
  },
  {
   "cell_type": "code",
   "execution_count": 8,
   "metadata": {},
   "outputs": [],
   "source": [
    "\n",
    "from SwingTools import extract_from_h5 as extract\n",
    "from SwingTools import integrate as integ\n",
    "from SwingTools import save_exported_data\n",
    "#from SwingTools import extract_sample_names\n",
    "from SwingTools import plot_integration\n",
    "from SwingTools import create_info_file\n",
    "import pandas as pd\n",
    "from matplotlib import pyplot as plt\n",
    "import numpy as np\n",
    "#import fabio\n",
    "import glob\n",
    "import os\n",
    "import logging\n"
   ]
  },
  {
   "cell_type": "code",
   "execution_count": 9,
   "metadata": {},
   "outputs": [
    {
     "name": "stdout",
     "output_type": "stream",
     "text": [
      "Error on:  []\n"
     ]
    }
   ],
   "source": [
    "# folder = 'C:/Users/cayez/Documents/DONNEES_SIMON/LPCNO/Synchrotron/SoleilSWING_octobre24/Notebook_traitement/dryed_cappilary/'\n",
    "# folder = 'D:/swing/kin_11_ag_55deg'\n",
    "#folder = 'D:/swing/kin_21_au_500tes'\n",
    "folder = 'D:/swing/test'\n",
    "df, asso = create_info_file(folder)\n"
   ]
  },
  {
   "cell_type": "code",
   "execution_count": 11,
   "metadata": {},
   "outputs": [
    {
     "data": {
      "text/html": [
       "<div>\n",
       "<style scoped>\n",
       "    .dataframe tbody tr th:only-of-type {\n",
       "        vertical-align: middle;\n",
       "    }\n",
       "\n",
       "    .dataframe tbody tr th {\n",
       "        vertical-align: top;\n",
       "    }\n",
       "\n",
       "    .dataframe thead th {\n",
       "        text-align: right;\n",
       "    }\n",
       "</style>\n",
       "<table border=\"1\" class=\"dataframe\">\n",
       "  <thead>\n",
       "    <tr style=\"text-align: right;\">\n",
       "      <th></th>\n",
       "      <th>File_sample</th>\n",
       "      <th>Sample name_sample</th>\n",
       "      <th>Mean Transmission_sample</th>\n",
       "      <th>Type_sample</th>\n",
       "      <th>Channel</th>\n",
       "      <th>Position</th>\n",
       "      <th>Time_sample</th>\n",
       "      <th>Flow_sample</th>\n",
       "      <th>File_ref</th>\n",
       "      <th>Sample name_ref</th>\n",
       "      <th>Mean Transmission_ref</th>\n",
       "      <th>Type_ref</th>\n",
       "      <th>Time_ref</th>\n",
       "      <th>Flow_ref</th>\n",
       "    </tr>\n",
       "  </thead>\n",
       "  <tbody>\n",
       "    <tr>\n",
       "      <th>0</th>\n",
       "      <td>rodriguez_02263_2024-10-11_16-47-31.h5</td>\n",
       "      <td>S_C_1_P_1</td>\n",
       "      <td>0.605944</td>\n",
       "      <td>sample</td>\n",
       "      <td>1</td>\n",
       "      <td>1</td>\n",
       "      <td>2024-10-11 16:47:31</td>\n",
       "      <td>unknown</td>\n",
       "      <td>rodriguez_02199_2024-10-11_16-28-28.h5</td>\n",
       "      <td>R_C_1_P_1</td>\n",
       "      <td>0.774944</td>\n",
       "      <td>ref</td>\n",
       "      <td>2024-10-11 16:28:28</td>\n",
       "      <td>unknown</td>\n",
       "    </tr>\n",
       "    <tr>\n",
       "      <th>1</th>\n",
       "      <td>rodriguez_02268_2024-10-11_16-48-25.h5</td>\n",
       "      <td>S_C_1_P_6</td>\n",
       "      <td>0.591169</td>\n",
       "      <td>sample</td>\n",
       "      <td>1</td>\n",
       "      <td>6</td>\n",
       "      <td>2024-10-11 16:48:25</td>\n",
       "      <td>unknown</td>\n",
       "      <td>rodriguez_02204_2024-10-11_16-29-22.h5</td>\n",
       "      <td>R_C_1_P_6</td>\n",
       "      <td>0.765734</td>\n",
       "      <td>ref</td>\n",
       "      <td>2024-10-11 16:29:22</td>\n",
       "      <td>unknown</td>\n",
       "    </tr>\n",
       "    <tr>\n",
       "      <th>2</th>\n",
       "      <td>rodriguez_02527_2024-10-11_17-32-33.h5</td>\n",
       "      <td>S_C_2_SF_5_P_10</td>\n",
       "      <td>0.581667</td>\n",
       "      <td>sample</td>\n",
       "      <td>2</td>\n",
       "      <td>10</td>\n",
       "      <td>2024-10-11 17:32:33</td>\n",
       "      <td>SF</td>\n",
       "      <td>rodriguez_02230_2024-10-11_16-33-54.h5</td>\n",
       "      <td>R_C_2_P_10</td>\n",
       "      <td>0.768632</td>\n",
       "      <td>ref</td>\n",
       "      <td>2024-10-11 16:33:54</td>\n",
       "      <td>unknown</td>\n",
       "    </tr>\n",
       "  </tbody>\n",
       "</table>\n",
       "</div>"
      ],
      "text/plain": [
       "                              File_sample Sample name_sample  \\\n",
       "0  rodriguez_02263_2024-10-11_16-47-31.h5          S_C_1_P_1   \n",
       "1  rodriguez_02268_2024-10-11_16-48-25.h5          S_C_1_P_6   \n",
       "2  rodriguez_02527_2024-10-11_17-32-33.h5    S_C_2_SF_5_P_10   \n",
       "\n",
       "   Mean Transmission_sample Type_sample Channel Position          Time_sample  \\\n",
       "0                  0.605944      sample       1        1  2024-10-11 16:47:31   \n",
       "1                  0.591169      sample       1        6  2024-10-11 16:48:25   \n",
       "2                  0.581667      sample       2       10  2024-10-11 17:32:33   \n",
       "\n",
       "  Flow_sample                                File_ref Sample name_ref  \\\n",
       "0     unknown  rodriguez_02199_2024-10-11_16-28-28.h5       R_C_1_P_1   \n",
       "1     unknown  rodriguez_02204_2024-10-11_16-29-22.h5       R_C_1_P_6   \n",
       "2          SF  rodriguez_02230_2024-10-11_16-33-54.h5      R_C_2_P_10   \n",
       "\n",
       "   Mean Transmission_ref Type_ref             Time_ref Flow_ref  \n",
       "0               0.774944      ref  2024-10-11 16:28:28  unknown  \n",
       "1               0.765734      ref  2024-10-11 16:29:22  unknown  \n",
       "2               0.768632      ref  2024-10-11 16:33:54  unknown  "
      ]
     },
     "execution_count": 11,
     "metadata": {},
     "output_type": "execute_result"
    }
   ],
   "source": [
    "asso.head()"
   ]
  },
  {
   "cell_type": "code",
   "execution_count": 45,
   "metadata": {},
   "outputs": [],
   "source": [
    "\n",
    "import os\n",
    "\n",
    "maskfile = 'mask.edf'\n",
    "coef = 0.0181 \n",
    "\n",
    "for index, row in asso.iterrows():\n",
    "    sample_file = str(row[\"File_sample\"])\n",
    "    ref_file = str(row[\"File_ref\"])\n",
    "    sample_path = folder+'/'+sample_file\n",
    "    ref_path = folder+'/'+ref_file\n",
    "    #extract data for sample and associated reference\n",
    "    sample_name, sample_eiger, sample_eiger_mean, sample_basler_image, sample_position, sample_params, sample_time_stamps, sample_transmission = extract(sample_path,print_output=False)\n",
    "    ref_name, ref_eiger, ref_eiger_mean, ref_basler_image, ref_position, ref_params, ref_time_stamps, ref_transmission = extract(ref_path,print_output=False)\n",
    "    #Do integration\n",
    "    sample_integration_mean = integ(sample_eiger_mean,sample_params,maskfile)\n",
    "    ref_integration_mean = integ(ref_eiger_mean,ref_params,maskfile)\n",
    "\n",
    "    sample_q_iso = sample_integration_mean[0]\n",
    "    sample_i_iso = sample_integration_mean[1]\n",
    "\n",
    "    ref_q_iso = ref_integration_mean[0]\n",
    "    ref_i_iso = ref_integration_mean[1]\n",
    "\n",
    "    #apply correction\n",
    "    corr_i_iso = coef*((sample_i_iso/np.mean(sample_transmission))-(ref_i_iso/np.mean(ref_transmission)))\n",
    "\n",
    "    # Create a new directory with the sample name\n",
    "    # file_num = sample_file.split('rodriguez_')[1]\n",
    "    # file_num = sample_file.split('_2024')[0]\n",
    "    file_num = sample_file.split('rodriguez_')[1].split('_')[0]\n",
    "    sample_dir = os.path.join(folder, sample_name+'__'+file_num)\n",
    "    if not os.path.exists(sample_dir):\n",
    "        os.makedirs(sample_dir)\n",
    "\n",
    "\n",
    "        # ###########\n",
    "        # file_num = sample_file.split('rodriguez_')[1]\n",
    "        # file_num = sample_file.split('_2024')[0]\n",
    "        # output_dir = output_dir + '_'+ file_num\n",
    "        # os.makedirs(output_dir, exist_ok=True)\n",
    "        # ###########\n",
    "\n",
    "    #save to files\n",
    "    sample_integration_col = np.column_stack(( sample_q_iso,  sample_i_iso))\n",
    "    ref_integration_col = np.column_stack((ref_q_iso, ref_i_iso))\n",
    "    corr_integration_col = np.column_stack((sample_q_iso, corr_i_iso))\n",
    "\n",
    "    np.save(os.path.join(sample_dir, f'sample_integration_{sample_name}.npy'), sample_integration_col)\n",
    "    np.save(os.path.join(sample_dir, f'ref_integration_{sample_name}.npy'), ref_integration_col)\n",
    "    np.save(os.path.join(sample_dir, f'corr_integration_{sample_name}.npy'), corr_integration_col)\n",
    "\n",
    "    header = \"sample_q_iso   sample_i_iso\"\n",
    "    np.savetxt(os.path.join(sample_dir, f'sample_integration_{sample_name}.txt'), sample_integration_col,header = header , fmt='%.6f')\n",
    "    header = \"ref_q_iso   ref_i_iso\"\n",
    "    np.savetxt(os.path.join(sample_dir, f'ref_integration_{sample_name}.txt'), ref_integration_col,header = header , fmt='%.6f')\n",
    "    header = \"corr_q_iso   corr_i_iso\"\n",
    "    np.savetxt(os.path.join(sample_dir, f'corr_integration_{sample_name}.txt'), corr_integration_col,header = header , fmt='%.6f')\n",
    "\n",
    "\n",
    "    #plot graph\n",
    "     # Create the plot\n",
    "    fig,ax = plt.subplots(figsize=(10, 6))\n",
    "    ax.loglog(sample_q_iso, sample_i_iso, label='Sample I_iso', color='blue', linestyle='-')\n",
    "    ax.loglog(ref_q_iso, ref_i_iso, label='Ref I_iso', color='red', linestyle='--')\n",
    "    ax.loglog(sample_q_iso, corr_i_iso, label='Corr I_iso', color='green', linestyle=':')\n",
    "    # Add labels and title\n",
    "    ax.set_xlabel('q_iso')\n",
    "    ax.set_ylabel('I_iso')\n",
    "    ax.set_title(f' {sample_name}')\n",
    "    ax.legend()\n",
    "    # Save the figure\n",
    "    plt.savefig(os.path.join(sample_dir, f'plot_iteration_{sample_name}.png'))\n",
    "    plt.close(fig)  # Close the figure to free up memory\n",
    "\n",
    "    \n",
    "\n"
   ]
  },
  {
   "cell_type": "markdown",
   "metadata": {},
   "source": [
    "- open and plot"
   ]
  },
  {
   "cell_type": "code",
   "execution_count": 33,
   "metadata": {},
   "outputs": [],
   "source": [
    "# Get a list of all the .npy files for samples, references, and corrections\n",
    "sample_files = sorted([f for f in os.listdir(folder) if f.startswith('sample_integration_') and f.endswith('.npy')])\n",
    "ref_files = sorted([f for f in os.listdir(folder) if f.startswith('ref_integration_') and f.endswith('.npy')])\n",
    "corr_files = sorted([f for f in os.listdir(folder) if f.startswith('corr_integration_') and f.endswith('.npy')])\n",
    "# Loop through all the files and plot the data\n",
    "for index in range(len(sample_files)):\n",
    "    # Load the data\n",
    "    sample_data = np.load(os.path.join(folder, sample_files[index]))\n",
    "    ref_data = np.load(os.path.join(folder, ref_files[index]))\n",
    "    corr_data = np.load(os.path.join(folder, corr_files[index]))\n",
    "    # Extract q_iso and I_iso for sample, ref, and corr\n",
    "    sample_q_iso, sample_i_iso = sample_data[:, 0], sample_data[:, 1]\n",
    "    ref_q_iso, ref_i_iso = ref_data[:, 0], ref_data[:, 1]\n",
    "    corr_q_iso, corr_i_iso = corr_data[:, 0], corr_data[:, 1]\n",
    "    # Create the plot\n",
    "    fig,ax = plt.subplots(figsize=(10, 6))\n",
    "\n",
    "    #plt.figure(figsize=(10, 6))\n",
    "    ax.loglog(sample_q_iso, sample_i_iso, label='Sample I_iso', color='blue', linestyle='-')\n",
    "    ax.loglog(ref_q_iso, ref_i_iso, label='Ref I_iso', color='red', linestyle='--')\n",
    "    ax.loglog(corr_q_iso, corr_i_iso, label='Corr I_iso', color='green', linestyle=':')\n",
    "    # Add labels and title\n",
    "    ax.set_xlabel('q_iso')\n",
    "    ax.set_ylabel('I_iso')\n",
    "    ax.set_title(f'I_iso vs q_iso for iteration {index}')\n",
    "    ax.legend()\n",
    "    # Save the figure\n",
    "    #plt.savefig(os.path.join(folder, f'plot_iteration_{index}.png'))\n",
    "    #plt.savefig(os.path.join(sample_dir, f'plot_iteration_{index}.png'))\n",
    "    plt.savefig(os.path.join(sample_dir, f'plot_iteration_{index}.png'))\n",
    "    #(os.path.join(sample_dir, f'sample_integration_{index}.npy'), sample_integration_col)\n",
    "    plt.close(fig)  # Close the figure to free up memory"
   ]
  },
  {
   "cell_type": "code",
   "execution_count": 34,
   "metadata": {},
   "outputs": [
    {
     "name": "stdout",
     "output_type": "stream",
     "text": [
      "D:/swing/test\\S_C_2_SF_5_P_10\\plot_iteration_2.png\n"
     ]
    }
   ],
   "source": [
    "print(os.path.join(sample_dir, f'plot_iteration_{index}.png'))"
   ]
  },
  {
   "cell_type": "code",
   "execution_count": null,
   "metadata": {},
   "outputs": [],
   "source": []
  },
  {
   "cell_type": "code",
   "execution_count": null,
   "metadata": {},
   "outputs": [],
   "source": []
  },
  {
   "cell_type": "code",
   "execution_count": null,
   "metadata": {},
   "outputs": [],
   "source": []
  },
  {
   "cell_type": "code",
   "execution_count": 4,
   "metadata": {},
   "outputs": [
    {
     "name": "stdout",
     "output_type": "stream",
     "text": [
      "Total entries in DataFrame: 6\n"
     ]
    }
   ],
   "source": [
    "print(f'Total entries in DataFrame: {len(df)}')"
   ]
  },
  {
   "cell_type": "code",
   "execution_count": 5,
   "metadata": {},
   "outputs": [],
   "source": [
    "# Separate references and samples\n",
    "references = df[df['Type'] == 'ref']\n",
    "samples = df[df['Type'] == 'sample']\n",
    "# Merge on Channel and Position\n",
    "merged = pd.merge(samples, references, on=['Channel', 'Position'], suffixes=('_sample', '_ref'))\n"
   ]
  },
  {
   "cell_type": "code",
   "execution_count": 6,
   "metadata": {},
   "outputs": [
    {
     "data": {
      "text/html": [
       "<div>\n",
       "<style scoped>\n",
       "    .dataframe tbody tr th:only-of-type {\n",
       "        vertical-align: middle;\n",
       "    }\n",
       "\n",
       "    .dataframe tbody tr th {\n",
       "        vertical-align: top;\n",
       "    }\n",
       "\n",
       "    .dataframe thead th {\n",
       "        text-align: right;\n",
       "    }\n",
       "</style>\n",
       "<table border=\"1\" class=\"dataframe\">\n",
       "  <thead>\n",
       "    <tr style=\"text-align: right;\">\n",
       "      <th></th>\n",
       "      <th>File_sample</th>\n",
       "      <th>Sample name_sample</th>\n",
       "      <th>Mean Transmission_sample</th>\n",
       "      <th>Type_sample</th>\n",
       "      <th>Channel</th>\n",
       "      <th>Position</th>\n",
       "      <th>Time_sample</th>\n",
       "      <th>Flow_sample</th>\n",
       "      <th>File_ref</th>\n",
       "      <th>Sample name_ref</th>\n",
       "      <th>Mean Transmission_ref</th>\n",
       "      <th>Type_ref</th>\n",
       "      <th>Time_ref</th>\n",
       "      <th>Flow_ref</th>\n",
       "    </tr>\n",
       "  </thead>\n",
       "  <tbody>\n",
       "  </tbody>\n",
       "</table>\n",
       "</div>"
      ],
      "text/plain": [
       "Empty DataFrame\n",
       "Columns: [File_sample, Sample name_sample, Mean Transmission_sample, Type_sample, Channel, Position, Time_sample, Flow_sample, File_ref, Sample name_ref, Mean Transmission_ref, Type_ref, Time_ref, Flow_ref]\n",
       "Index: []"
      ]
     },
     "execution_count": 6,
     "metadata": {},
     "output_type": "execute_result"
    }
   ],
   "source": [
    "merged.head(300)"
   ]
  },
  {
   "cell_type": "code",
   "execution_count": 7,
   "metadata": {},
   "outputs": [
    {
     "ename": "KeyError",
     "evalue": "\"['Sample name'] not in index\"",
     "output_type": "error",
     "traceback": [
      "\u001b[1;31m---------------------------------------------------------------------------\u001b[0m",
      "\u001b[1;31mKeyError\u001b[0m                                  Traceback (most recent call last)",
      "Cell \u001b[1;32mIn[7], line 2\u001b[0m\n\u001b[0;32m      1\u001b[0m \u001b[38;5;66;03m# Select relevant columns\u001b[39;00m\n\u001b[1;32m----> 2\u001b[0m result \u001b[38;5;241m=\u001b[39m \u001b[43mmerged\u001b[49m\u001b[43m[\u001b[49m\u001b[43m[\u001b[49m\u001b[38;5;124;43m'\u001b[39;49m\u001b[38;5;124;43mFile_sample\u001b[39;49m\u001b[38;5;124;43m'\u001b[39;49m\u001b[43m,\u001b[49m\u001b[43m \u001b[49m\u001b[38;5;124;43m'\u001b[39;49m\u001b[38;5;124;43mSample name\u001b[39;49m\u001b[38;5;124;43m'\u001b[39;49m\u001b[43m,\u001b[49m\u001b[43m \u001b[49m\u001b[38;5;124;43m'\u001b[39;49m\u001b[38;5;124;43mMean Transmission_sample\u001b[39;49m\u001b[38;5;124;43m'\u001b[39;49m\u001b[43m,\u001b[49m\u001b[43m \u001b[49m\u001b[38;5;124;43m'\u001b[39;49m\u001b[38;5;124;43mFile_ref\u001b[39;49m\u001b[38;5;124;43m'\u001b[39;49m\u001b[43m,\u001b[49m\u001b[43m \u001b[49m\u001b[38;5;124;43m'\u001b[39;49m\u001b[38;5;124;43mSample name_ref\u001b[39;49m\u001b[38;5;124;43m'\u001b[39;49m\u001b[43m,\u001b[49m\u001b[43m \u001b[49m\u001b[38;5;124;43m'\u001b[39;49m\u001b[38;5;124;43mMean Transmission_ref\u001b[39;49m\u001b[38;5;124;43m'\u001b[39;49m\u001b[43m]\u001b[49m\u001b[43m]\u001b[49m\n",
      "File \u001b[1;32mc:\\Users\\cayez\\Anaconda3\\envs\\ai_py311\\Lib\\site-packages\\pandas\\core\\frame.py:4108\u001b[0m, in \u001b[0;36mDataFrame.__getitem__\u001b[1;34m(self, key)\u001b[0m\n\u001b[0;32m   4106\u001b[0m     \u001b[38;5;28;01mif\u001b[39;00m is_iterator(key):\n\u001b[0;32m   4107\u001b[0m         key \u001b[38;5;241m=\u001b[39m \u001b[38;5;28mlist\u001b[39m(key)\n\u001b[1;32m-> 4108\u001b[0m     indexer \u001b[38;5;241m=\u001b[39m \u001b[38;5;28;43mself\u001b[39;49m\u001b[38;5;241;43m.\u001b[39;49m\u001b[43mcolumns\u001b[49m\u001b[38;5;241;43m.\u001b[39;49m\u001b[43m_get_indexer_strict\u001b[49m\u001b[43m(\u001b[49m\u001b[43mkey\u001b[49m\u001b[43m,\u001b[49m\u001b[43m \u001b[49m\u001b[38;5;124;43m\"\u001b[39;49m\u001b[38;5;124;43mcolumns\u001b[39;49m\u001b[38;5;124;43m\"\u001b[39;49m\u001b[43m)\u001b[49m[\u001b[38;5;241m1\u001b[39m]\n\u001b[0;32m   4110\u001b[0m \u001b[38;5;66;03m# take() does not accept boolean indexers\u001b[39;00m\n\u001b[0;32m   4111\u001b[0m \u001b[38;5;28;01mif\u001b[39;00m \u001b[38;5;28mgetattr\u001b[39m(indexer, \u001b[38;5;124m\"\u001b[39m\u001b[38;5;124mdtype\u001b[39m\u001b[38;5;124m\"\u001b[39m, \u001b[38;5;28;01mNone\u001b[39;00m) \u001b[38;5;241m==\u001b[39m \u001b[38;5;28mbool\u001b[39m:\n",
      "File \u001b[1;32mc:\\Users\\cayez\\Anaconda3\\envs\\ai_py311\\Lib\\site-packages\\pandas\\core\\indexes\\base.py:6200\u001b[0m, in \u001b[0;36mIndex._get_indexer_strict\u001b[1;34m(self, key, axis_name)\u001b[0m\n\u001b[0;32m   6197\u001b[0m \u001b[38;5;28;01melse\u001b[39;00m:\n\u001b[0;32m   6198\u001b[0m     keyarr, indexer, new_indexer \u001b[38;5;241m=\u001b[39m \u001b[38;5;28mself\u001b[39m\u001b[38;5;241m.\u001b[39m_reindex_non_unique(keyarr)\n\u001b[1;32m-> 6200\u001b[0m \u001b[38;5;28;43mself\u001b[39;49m\u001b[38;5;241;43m.\u001b[39;49m\u001b[43m_raise_if_missing\u001b[49m\u001b[43m(\u001b[49m\u001b[43mkeyarr\u001b[49m\u001b[43m,\u001b[49m\u001b[43m \u001b[49m\u001b[43mindexer\u001b[49m\u001b[43m,\u001b[49m\u001b[43m \u001b[49m\u001b[43maxis_name\u001b[49m\u001b[43m)\u001b[49m\n\u001b[0;32m   6202\u001b[0m keyarr \u001b[38;5;241m=\u001b[39m \u001b[38;5;28mself\u001b[39m\u001b[38;5;241m.\u001b[39mtake(indexer)\n\u001b[0;32m   6203\u001b[0m \u001b[38;5;28;01mif\u001b[39;00m \u001b[38;5;28misinstance\u001b[39m(key, Index):\n\u001b[0;32m   6204\u001b[0m     \u001b[38;5;66;03m# GH 42790 - Preserve name from an Index\u001b[39;00m\n",
      "File \u001b[1;32mc:\\Users\\cayez\\Anaconda3\\envs\\ai_py311\\Lib\\site-packages\\pandas\\core\\indexes\\base.py:6252\u001b[0m, in \u001b[0;36mIndex._raise_if_missing\u001b[1;34m(self, key, indexer, axis_name)\u001b[0m\n\u001b[0;32m   6249\u001b[0m     \u001b[38;5;28;01mraise\u001b[39;00m \u001b[38;5;167;01mKeyError\u001b[39;00m(\u001b[38;5;124mf\u001b[39m\u001b[38;5;124m\"\u001b[39m\u001b[38;5;124mNone of [\u001b[39m\u001b[38;5;132;01m{\u001b[39;00mkey\u001b[38;5;132;01m}\u001b[39;00m\u001b[38;5;124m] are in the [\u001b[39m\u001b[38;5;132;01m{\u001b[39;00maxis_name\u001b[38;5;132;01m}\u001b[39;00m\u001b[38;5;124m]\u001b[39m\u001b[38;5;124m\"\u001b[39m)\n\u001b[0;32m   6251\u001b[0m not_found \u001b[38;5;241m=\u001b[39m \u001b[38;5;28mlist\u001b[39m(ensure_index(key)[missing_mask\u001b[38;5;241m.\u001b[39mnonzero()[\u001b[38;5;241m0\u001b[39m]]\u001b[38;5;241m.\u001b[39munique())\n\u001b[1;32m-> 6252\u001b[0m \u001b[38;5;28;01mraise\u001b[39;00m \u001b[38;5;167;01mKeyError\u001b[39;00m(\u001b[38;5;124mf\u001b[39m\u001b[38;5;124m\"\u001b[39m\u001b[38;5;132;01m{\u001b[39;00mnot_found\u001b[38;5;132;01m}\u001b[39;00m\u001b[38;5;124m not in index\u001b[39m\u001b[38;5;124m\"\u001b[39m)\n",
      "\u001b[1;31mKeyError\u001b[0m: \"['Sample name'] not in index\""
     ]
    }
   ],
   "source": [
    "# Select relevant columns\n",
    "result = merged[['File_sample', 'Sample name', 'Mean Transmission_sample', 'File_ref', 'Sample name_ref', 'Mean Transmission_ref']]"
   ]
  },
  {
   "cell_type": "code",
   "execution_count": null,
   "metadata": {},
   "outputs": [],
   "source": []
  },
  {
   "cell_type": "code",
   "execution_count": null,
   "metadata": {},
   "outputs": [],
   "source": [
    "# Assuming df is your original DataFrame\n",
    "# Filter samples\n",
    "df_samples = df[df['Type'] == 'sample']\n",
    "# Extract the pattern from the Sample name\n",
    "df_samples['ref_sample_name'] = df_samples['Sample name'].str[2:]\n",
    "# Filter references\n",
    "df_references = df[df['Type'] == 'ref']\n",
    "# Merge samples with references\n",
    "df_samples = pd.merge(df_samples, df_references[['Sample name', 'File']], \n",
    "                      left_on='ref_sample_name', right_on='Sample name', \n",
    "                      suffixes=('_sample', '_ref'))\n",
    "# Rename columns\n",
    "df_samples = df_samples.rename(columns={'Sample name_sample': 'Sample name', \n",
    "                                        'Sample name_ref': 'corresponding ref sample name',\n",
    "                                        'File': 'corresponding ref file'})\n",
    "# Select the desired columns\n",
    "df_samples = df_samples[['File', 'Sample name', 'Mean Transmission', 'Type', 'Channel', 'Position', \n",
    "                         'Time', 'Flow', 'corresponding ref sample name', 'corresponding ref file']]\n",
    "# Display the resulting DataFrame\n",
    "print(df_samples)"
   ]
  },
  {
   "cell_type": "code",
   "execution_count": null,
   "metadata": {},
   "outputs": [],
   "source": [
    "# # Adding the 'Type' column using if-else statements\n",
    "# df['Type'] = 'unknown'  # Set default value\n",
    "# for index, row in df.iterrows():\n",
    "#     if row['Sample name'].startswith('R'):\n",
    "#         df.at[index, 'Type'] = 'ref'\n",
    "#     elif row['Sample name'].startswith('S'):\n",
    "#         df.at[index, 'Type'] = 'sample'\n",
    "\n",
    "# # Adding the 'Channel' column\n",
    "# df['Channel'] = 'unknown'  # Set default value\n",
    "# for index, row in df.iterrows():\n",
    "#     try:\n",
    "#         channel_value = row['Sample name'].split('_C_')[1][0]\n",
    "#         if channel_value in ['1', '2']:\n",
    "#             df.at[index, 'Channel'] = int(channel_value)\n",
    "#     except (IndexError, ValueError):\n",
    "#         pass  # Default value is already 'unknown'\n",
    "\n",
    "# # Adding the 'Position' column\n",
    "# df['Position'] = 'unknown'  # Set default value\n",
    "# for index, row in df.iterrows():\n",
    "#     try:\n",
    "#         position_value = row['Sample name'].split('_P_')[1].split('_')[0]\n",
    "#         df.at[index, 'Position'] = int(position_value)\n",
    "#     except (IndexError, ValueError):\n",
    "#         pass  # Default value is already 'unknown'\n",
    "\n",
    "# # Adding the 'Time' column\n",
    "# df['Time'] = 'unknown'  # Set default value\n",
    "# for index, row in df.iterrows():\n",
    "#     try:\n",
    "#         time_value = row['File'].split('.h5')[0].split('_')[-2:]  # Get the last two parts (date and time)\n",
    "#         full_time_string = '-'.join(time_value)  # Combine them with a dash\n",
    "#         df.at[index, 'Time'] = pd.to_datetime(full_time_string, format='%Y-%m-%d-%H-%M-%S')  # Convert to datetime\n",
    "#     except (IndexError, ValueError):\n",
    "#         pass  # Default value is already 'unknown'\n",
    "\n",
    "# # Adding the 'Flow' column\n",
    "# df['Flow'] = 'unknown'  # Set default value\n",
    "# for index, row in df.iterrows():\n",
    "#     try:\n",
    "#         if 'SF' in row['Sample name']:\n",
    "#             df.at[index, 'Flow'] = 'SF'\n",
    "#         elif 'LF' in row['Sample name']:\n",
    "#             df.at[index, 'Flow'] = 'LF'\n",
    "#     except Exception as e:\n",
    "#         pass  # Default value is already 'unknown'\n",
    "\n",
    "# df.head(200)"
   ]
  },
  {
   "cell_type": "code",
   "execution_count": null,
   "metadata": {},
   "outputs": [],
   "source": [
    "# # Adding the 'Type' column using if-else statements\n",
    "# df['Type'] = 'unknown'  # Set default value\n",
    "# for index, row in df.iterrows():\n",
    "#     if row['Sample name'].startswith('R'):\n",
    "#         df.at[index, 'Type'] = 'ref'\n",
    "#     elif row['Sample name'].startswith('S'):\n",
    "#         df.at[index, 'Type'] = 'sample'\n",
    "\n",
    "# df['Channel'] = 'unknown'  # Set default value\n",
    "# for index, row in df.iterrows():\n",
    "#     try:\n",
    "#         if row['Sample name'].split('_C_')[1][0] == '1':\n",
    "#             df.at[index, 'Channel'] = 1\n",
    "#         if row['Sample name'].split('_C_')[1][0] == '2':\n",
    "#              df.at[index, 'Channel'] = 2\n",
    "       \n",
    "#     except IndexError:\n",
    "#         # Handle cases where '_C_' or '_P_' might not be present\n",
    "#         df.at[index, 'Channel'] = 'unknown'\n",
    "\n",
    "\n",
    "# df['Position'] = 'unknown'  # Set default value\n",
    "# for index, row in df.iterrows():\n",
    "#     try:\n",
    "#         # Split on '_P_' and take the second part, then split on underscore or whitespace\n",
    "#         position_value = row['Sample name'].split('_P_')[1].split('_')[0]\n",
    "#         df.at[index, 'Position'] = int(position_value)  # Convert to integer\n",
    "#     except IndexError:\n",
    "#         # Handle cases where '_P_' might not be present\n",
    "#         df.at[index, 'Position'] = 'unknown'\n",
    "\n",
    "# df['Time'] = 'unknown'  # Set default value\n",
    "# for index, row in df.iterrows():\n",
    "#     try:\n",
    "#         # Extract the part of the filename before the '.h5'\n",
    "#         time_value = row['File'].split('.h5')[0].split('_')[-2:]  # Get the last two parts (date and time)\n",
    "#         full_time_string = '-'.join(time_value)  # Combine them with a dash\n",
    "#         df.at[index, 'Time'] = pd.to_datetime(full_time_string, format='%Y-%m-%d-%H-%M-%S')  # Convert to datetime\n",
    "#     except IndexError:\n",
    "#         df.at[index, 'Time'] = 'unknown'\n",
    "\n",
    "# df['Flow'] = 'unknown'  # Set default value\n",
    "# for index, row in df.iterrows():\n",
    "#     try:   \n",
    "#     # Check if 'SF' or 'LF' is in the 'Sample name'\n",
    "#         if 'SF' in row['Sample name']:\n",
    "#             df.at[index, 'Flow'] = 'SF'\n",
    "#         elif 'LF' in row['Sample name']:\n",
    "#             df.at[index, 'Flow'] = 'LF'\n",
    "#         else:\n",
    "#             df.at[index, 'Flow'] = 'unknown'  # This line is optional since default is already 'unknown'\n",
    "#     except Exception as e:\n",
    "#         df.at[index, 'Flow'] = 'unknown'  # Handle any unexpected errors\n",
    "# df.head(200)\n",
    "\n"
   ]
  },
  {
   "cell_type": "code",
   "execution_count": null,
   "metadata": {},
   "outputs": [],
   "source": [
    "# Count occurrences of 'unknown' in the 'Type' column\n",
    "unknown_count_type = df['Type'].value_counts().get('unknown', 0)\n",
    "\n",
    "# Count occurrences of 'unknown' in the 'Channel' column\n",
    "unknown_count_channel = df['Channel'].value_counts().get('unknown', 0)\n",
    "\n",
    "# Count occurrences of 'unknown' in the 'Position' column\n",
    "unknown_count_position = df['Position'].value_counts().get('unknown', 0)\n",
    "\n",
    "# Count occurrences of 'unknown' in the 'Time' column\n",
    "unknown_count_time = df['Time'].value_counts().get('unknown', 0)\n",
    "\n",
    "print(f\"Unknown counts in each column:\")\n",
    "print(f\"Type: {unknown_count_type}\")\n",
    "print(f\"Channel: {unknown_count_channel}\")\n",
    "print(f\"Position: {unknown_count_position}\")\n",
    "print(f\"Time: {unknown_count_time}\")"
   ]
  },
  {
   "cell_type": "markdown",
   "metadata": {},
   "source": [
    "- Extract data from *.h5 file"
   ]
  },
  {
   "cell_type": "code",
   "execution_count": 4,
   "metadata": {},
   "outputs": [],
   "source": [
    "# data_folder = 'C:/Users/cayez/Documents/DONNEES_SIMON/LPCNO/Synchrotron/SoleilSWING_octobre24/Notebook_traitement/dryed_cappilary/'\n",
    "# file = data_folder+'rodriguez_10448_2024-10-14_02-17-36.h5'"
   ]
  },
  {
   "cell_type": "code",
   "execution_count": null,
   "metadata": {},
   "outputs": [],
   "source": [
    "# sample_name, eiger, eiger_mean, basler_image, position, params, time_stamps, transmission = extract(file,print_output=True)"
   ]
  },
  {
   "cell_type": "code",
   "execution_count": 4,
   "metadata": {},
   "outputs": [],
   "source": [
    "# maskfile = 'mask.edf'\n",
    "# integration_mean = integ(eiger_mean,params,maskfile)"
   ]
  },
  {
   "cell_type": "markdown",
   "metadata": {},
   "source": [
    "- Plot and/or save plot"
   ]
  },
  {
   "cell_type": "code",
   "execution_count": 5,
   "metadata": {},
   "outputs": [],
   "source": [
    "# plot_integration(integration_mean,eiger_mean,sample_name,data_folder=data_folder,plot=False,save_path=data_folder)"
   ]
  },
  {
   "cell_type": "markdown",
   "metadata": {},
   "source": [
    "- Save data to files"
   ]
  },
  {
   "cell_type": "code",
   "execution_count": null,
   "metadata": {},
   "outputs": [],
   "source": [
    "# save_exported_data(file,sample_name, eiger, basler_image, position, params, time_stamps, transmission, integration_mean ,maskfile)"
   ]
  },
  {
   "cell_type": "markdown",
   "metadata": {},
   "source": [
    "\n",
    "- faire tourner en boucle\n",
    "- faire code création fichier recap nom/fichier/transmission Pour correction d'intensité\n",
    "- tester sur :\n",
    "    - capillaire\n",
    "    - Kin_21_Au500tes\n",
    "    - Kin_11"
   ]
  },
  {
   "cell_type": "markdown",
   "metadata": {},
   "source": [
    "- Run on all the files in the folder"
   ]
  },
  {
   "cell_type": "code",
   "execution_count": null,
   "metadata": {},
   "outputs": [],
   "source": [
    "# data_folder = 'C:/Users/cayez/Documents/DONNEES_SIMON/LPCNO/Synchrotron/SoleilSWING_octobre24/Notebook_traitement/dryed_cappilary/'\n",
    "# # Get a list of all files in the directory\n",
    "# files = [f for f in os.listdir(data_folder) if f.endswith('.h5')]\n",
    "# maskfile = 'mask.edf'\n",
    "# # Loop over the files\n",
    "# for file in files:\n",
    "#     try:\n",
    "#         print(file)\n",
    "#         # file_path = os.path.join(data_folder, file)\n",
    "#         # sample_name, eiger, eiger_mean, basler_image, position, params, time_stamps, transmission = extract(file_path, print_output=False)\n",
    "#         # integration_mean = integ(eiger_mean,params,maskfile)\n",
    "#         # save_exported_data(file,sample_name, eiger, basler_image, position, params, time_stamps, transmission, integration_mean ,maskfile)\n",
    "#     except Exception as e:\n",
    "#         error_message = f\"Error processing file {file}: {e}\"\n",
    "#         print(error_message)  # Print to console\n",
    "#         logging.error(error_message)  # Log the error to the log file\n",
    "    "
   ]
  },
  {
   "cell_type": "code",
   "execution_count": 11,
   "metadata": {},
   "outputs": [],
   "source": [
    "# data_folder = 'C:/Users/cayez/Documents/DONNEES_SIMON/LPCNO/Synchrotron/SoleilSWING_octobre24/Notebook_traitement/dryed_cappilary/'\n",
    "# file = data_folder+'rodriguez_10448_2024-10-14_02-17-36.h5'\n",
    "# maskfile = 'mask.edf'\n",
    "# sample_name, eiger, eiger_mean, basler_image, position, params, time_stamps, transmission = extract(file, print_output=False)\n",
    "# integration_mean = integ(eiger_mean,params,maskfile)\n",
    "# save_exported_data(file,sample_name, eiger, basler_image, position, params, time_stamps, transmission, integration_mean ,maskfile)\n"
   ]
  },
  {
   "cell_type": "code",
   "execution_count": 14,
   "metadata": {},
   "outputs": [],
   "source": [
    "\n",
    "# def batch_convert(data_folder,maskfile):\n",
    "#     \"\"\"\n",
    "#     Processes all .h5 files in the specified data folder, performing data extraction,\n",
    "#     integration, and saving of the results. Additionally, it copies all .png files from\n",
    "#     the data folder and its subfolders to a 'plots' directory.\n",
    "#     Parameters:\n",
    "#     - data_folder (str): The path to the folder containing the .h5 files and subfolders.\n",
    "#     - maskfile (str): The path to the mask file used for integration.\n",
    "#     Returns:\n",
    "#     None\n",
    "#     Example:\n",
    "#     >>> data_folder = 'C:/path/to/data_folder/'\n",
    "#     >>> maskfile = 'C:/path/to/mask.edf'\n",
    "#     >>> batch_convert(data_folder, maskfile)\n",
    "#     This will process all .h5 files in the specified folder and copy all .png files to a 'plots' subfolder.\n",
    "#     \"\"\"\n",
    "#     # Get a list of all files in the directory\n",
    "#     files = [f for f in os.listdir(data_folder) if f.endswith('.h5')]\n",
    "#     # Loop over the files\n",
    "#     for index, file in enumerate(files):\n",
    "#         try:\n",
    "#             print(f'Processing file {index + 1}/{len(files)}: {file}')\n",
    "#             clear_output(wait=True)\n",
    "#             file_path = os.path.join(data_folder, file)  # Construct the full path for each file\n",
    "#             # Extract data from the file\n",
    "#             sample_name, eiger, eiger_mean, basler_image, position, params, time_stamps, transmission = extract(file_path, print_output=False)\n",
    "#             # Perform integration\n",
    "#             integration_mean = integ(eiger_mean, params, maskfile)\n",
    "#             # Save the exported data\n",
    "#             save_exported_data(file_path, sample_name, eiger, basler_image, position, params, time_stamps, transmission, integration_mean, maskfile)\n",
    "#         except Exception as e:\n",
    "#             print(f\"Error processing file {file}: {e}\")\n",
    "\n",
    "#     #copy images of plots to have together\n",
    "#     plot_folder = data_folder+'plots'\n",
    "#     os.makedirs(plot_folder, exist_ok=True)\n",
    "#         # Walk through the source folder and its subfolders\n",
    "#     for root, dirs, files in os.walk(data_folder):\n",
    "#         for file in files:\n",
    "#             # Skip the plot folder\n",
    "#             if root == plot_folder:\n",
    "#                 continue\n",
    "#             if file.endswith('.png'):\n",
    "#                 # Construct full file path\n",
    "#                 file_path = os.path.join(root, file)\n",
    "#                 # Copy the file to the destination folder\n",
    "#                 shutil.copy(file_path, plot_folder)\n"
   ]
  },
  {
   "cell_type": "code",
   "execution_count": null,
   "metadata": {},
   "outputs": [],
   "source": [
    "\n",
    "# data_folder = 'C:/Users/cayez/Documents/DONNEES_SIMON/LPCNO/Synchrotron/SoleilSWING_octobre24/Notebook_traitement/dryed_cappilary/'\n",
    "# maskfile = 'mask.edf'\n",
    "# batch_convert(data_folder,maskfile)"
   ]
  }
 ],
 "metadata": {
  "kernelspec": {
   "display_name": "ai_py311",
   "language": "python",
   "name": "python3"
  },
  "language_info": {
   "codemirror_mode": {
    "name": "ipython",
    "version": 3
   },
   "file_extension": ".py",
   "mimetype": "text/x-python",
   "name": "python",
   "nbconvert_exporter": "python",
   "pygments_lexer": "ipython3",
   "version": "3.11.9"
  }
 },
 "nbformat": 4,
 "nbformat_minor": 2
}
