{
 "cells": [
  {
   "cell_type": "markdown",
   "metadata": {},
   "source": [
    "# <center><u>RUN SWING SOLEIL octobre24</u></center>"
   ]
  },
  {
   "cell_type": "markdown",
   "metadata": {},
   "source": [
    "Ce notebook extrait les informations des fichiers h5 contenus dans un dossier. \n",
    "- Extrait dans un pandas dataframe le nom du fichier, sa transmission, son type, le sample name est utilisé pour determiner le \n",
    "canal et la position dans le cas où il est au format S_C_X_SF_X_P_X (S=Sample, R= ref, C= n°channel du capillaire,P=n°position dans le capillaire ,\n",
    "SF= Stop flow LF=LostFlow )\n",
    "- Associe un echantillon à sa référence dans un pandas datadrame suivant si le sample name commence par S ou F (asso)\n",
    "- Calcule les integrations corrigées à partir de l'association sample / ref\n",
    "- crée une vidèo à partir de l'ensemble des images"
   ]
  },
  {
   "cell_type": "code",
   "execution_count": 1,
   "metadata": {},
   "outputs": [],
   "source": [
    "import pandas as pd\n",
    "from matplotlib import pyplot as plt\n",
    "import numpy as np\n",
    "#import fabio\n",
    "import glob\n",
    "import os\n",
    "#import logging\n",
    "import SwingTools as st\n",
    "import VideoSwingTools as vst\n"
   ]
  },
  {
   "cell_type": "markdown",
   "metadata": {},
   "source": [
    "- Dossier de travail"
   ]
  },
  {
   "cell_type": "code",
   "execution_count": 2,
   "metadata": {},
   "outputs": [],
   "source": [
    "\n",
    "# folder = 'C:/Users/cayez/Documents/DONNEES_SIMON/LPCNO/Synchrotron/SoleilSWING_octobre24/Notebook_traitement/dryed_cappilary/'\n",
    "# folder = 'D:/swing/kin_11_ag_55deg'\n",
    "#folder = 'D:/swing/kin_21_au_500tes'\n",
    "#folder = 'D:/swing/test'\n",
    "#folder = 'C:/Users/cayez/Documents/DONNEES_SIMON/LPCNO/Synchrotron/SoleilSWING_octobre24/Notebook_traitement/dryed_cappilary/'\n",
    "#folder = 'T:/LPCNO/NCO/Manips/DATA_SAXS/2024_10_11_SWING_Rohan/20240444/2024/Run4/rodriguez_manipOK/kin_21_au_500tes'\n",
    "folder = 'C:/Users/cayez/Documents/DONNEES_SIMON/LPCNO/Synchrotron/SoleilSWING_octobre24/Notebook_traitement/kin21_light'\n",
    "#folder = 'D:/SWING/to_do/kin_21_au_500tes'\n",
    "# folder = 'D:/SWING/to_do/kin_1_ag_160'\n",
    "\n",
    "\n"
   ]
  },
  {
   "cell_type": "markdown",
   "metadata": {},
   "source": [
    "- Extraction des dataframe et csv"
   ]
  },
  {
   "cell_type": "code",
   "execution_count": 3,
   "metadata": {},
   "outputs": [
    {
     "name": "stdout",
     "output_type": "stream",
     "text": [
      "Processing file n° 7 on 7\n",
      "S_C_2_SF_4_P_2\n"
     ]
    }
   ],
   "source": [
    "df, asso = st.create_info_file(folder)"
   ]
  },
  {
   "cell_type": "code",
   "execution_count": 4,
   "metadata": {},
   "outputs": [
    {
     "data": {
      "text/html": [
       "<div>\n",
       "<style scoped>\n",
       "    .dataframe tbody tr th:only-of-type {\n",
       "        vertical-align: middle;\n",
       "    }\n",
       "\n",
       "    .dataframe tbody tr th {\n",
       "        vertical-align: top;\n",
       "    }\n",
       "\n",
       "    .dataframe thead th {\n",
       "        text-align: right;\n",
       "    }\n",
       "</style>\n",
       "<table border=\"1\" class=\"dataframe\">\n",
       "  <thead>\n",
       "    <tr style=\"text-align: right;\">\n",
       "      <th></th>\n",
       "      <th>File_sample</th>\n",
       "      <th>Sample name_sample</th>\n",
       "      <th>Mean Transmission_sample</th>\n",
       "      <th>Type_sample</th>\n",
       "      <th>Channel</th>\n",
       "      <th>Position</th>\n",
       "      <th>Time_sample</th>\n",
       "      <th>Flow_sample</th>\n",
       "      <th>File_ref</th>\n",
       "      <th>Sample name_ref</th>\n",
       "      <th>Mean Transmission_ref</th>\n",
       "      <th>Type_ref</th>\n",
       "      <th>Time_ref</th>\n",
       "      <th>Flow_ref</th>\n",
       "    </tr>\n",
       "  </thead>\n",
       "  <tbody>\n",
       "    <tr>\n",
       "      <th>0</th>\n",
       "      <td>rodriguez_04893_2024-10-12_11-48-45.h5</td>\n",
       "      <td>S_C_1_P_1</td>\n",
       "      <td>0.633914</td>\n",
       "      <td>sample</td>\n",
       "      <td>1</td>\n",
       "      <td>1</td>\n",
       "      <td>2024-10-12 11:48:45</td>\n",
       "      <td>unknown</td>\n",
       "      <td>rodriguez_04823_2024-10-12_11-21-04.h5</td>\n",
       "      <td>R_C_1_P_1</td>\n",
       "      <td>0.774261</td>\n",
       "      <td>ref</td>\n",
       "      <td>2024-10-12 11:21:04</td>\n",
       "      <td>unknown</td>\n",
       "    </tr>\n",
       "    <tr>\n",
       "      <th>1</th>\n",
       "      <td>rodriguez_04896_2024-10-12_11-49-15.h5</td>\n",
       "      <td>S_C_1_P_4</td>\n",
       "      <td>0.629522</td>\n",
       "      <td>sample</td>\n",
       "      <td>1</td>\n",
       "      <td>4</td>\n",
       "      <td>2024-10-12 11:49:15</td>\n",
       "      <td>unknown</td>\n",
       "      <td>rodriguez_04826_2024-10-12_11-21-37.h5</td>\n",
       "      <td>R_C_1_P_4</td>\n",
       "      <td>0.772646</td>\n",
       "      <td>ref</td>\n",
       "      <td>2024-10-12 11:21:37</td>\n",
       "      <td>unknown</td>\n",
       "    </tr>\n",
       "    <tr>\n",
       "      <th>2</th>\n",
       "      <td>rodriguez_04897_2024-10-12_11-49-25.h5</td>\n",
       "      <td>S_C_1_P_5</td>\n",
       "      <td>0.628916</td>\n",
       "      <td>sample</td>\n",
       "      <td>1</td>\n",
       "      <td>5</td>\n",
       "      <td>2024-10-12 11:49:25</td>\n",
       "      <td>unknown</td>\n",
       "      <td>rodriguez_04827_2024-10-12_11-21-47.h5</td>\n",
       "      <td>R_C_1_P_5</td>\n",
       "      <td>0.770986</td>\n",
       "      <td>ref</td>\n",
       "      <td>2024-10-12 11:21:47</td>\n",
       "      <td>unknown</td>\n",
       "    </tr>\n",
       "  </tbody>\n",
       "</table>\n",
       "</div>"
      ],
      "text/plain": [
       "                              File_sample Sample name_sample  \\\n",
       "0  rodriguez_04893_2024-10-12_11-48-45.h5          S_C_1_P_1   \n",
       "1  rodriguez_04896_2024-10-12_11-49-15.h5          S_C_1_P_4   \n",
       "2  rodriguez_04897_2024-10-12_11-49-25.h5          S_C_1_P_5   \n",
       "\n",
       "   Mean Transmission_sample Type_sample Channel Position          Time_sample  \\\n",
       "0                  0.633914      sample       1        1  2024-10-12 11:48:45   \n",
       "1                  0.629522      sample       1        4  2024-10-12 11:49:15   \n",
       "2                  0.628916      sample       1        5  2024-10-12 11:49:25   \n",
       "\n",
       "  Flow_sample                                File_ref Sample name_ref  \\\n",
       "0     unknown  rodriguez_04823_2024-10-12_11-21-04.h5       R_C_1_P_1   \n",
       "1     unknown  rodriguez_04826_2024-10-12_11-21-37.h5       R_C_1_P_4   \n",
       "2     unknown  rodriguez_04827_2024-10-12_11-21-47.h5       R_C_1_P_5   \n",
       "\n",
       "   Mean Transmission_ref Type_ref             Time_ref Flow_ref  \n",
       "0               0.774261      ref  2024-10-12 11:21:04  unknown  \n",
       "1               0.772646      ref  2024-10-12 11:21:37  unknown  \n",
       "2               0.770986      ref  2024-10-12 11:21:47  unknown  "
      ]
     },
     "execution_count": 4,
     "metadata": {},
     "output_type": "execute_result"
    }
   ],
   "source": [
    "asso.head()"
   ]
  },
  {
   "cell_type": "code",
   "execution_count": 5,
   "metadata": {},
   "outputs": [
    {
     "name": "stdout",
     "output_type": "stream",
     "text": [
      "7\n",
      "3\n"
     ]
    }
   ],
   "source": [
    "\n",
    "print(len(df))\n",
    "print(len(asso))"
   ]
  },
  {
   "cell_type": "markdown",
   "metadata": {},
   "source": [
    "- Calcul des corrections s'integration et sauvegarde des fichiers correspondant"
   ]
  },
  {
   "cell_type": "code",
   "execution_count": 6,
   "metadata": {},
   "outputs": [
    {
     "name": "stdout",
     "output_type": "stream",
     "text": [
      "C:/Users/cayez/Documents/DONNEES_SIMON/LPCNO/Synchrotron/SoleilSWING_octobre24/Notebook_traitement/kin21_light\\S_C_1_P_5_04897\\positions/@pos_@S_C_1_P_5@04897.png\n",
      "File: 3 on 3 \n"
     ]
    }
   ],
   "source": [
    "#maskfile = 'mask.edf'\n",
    "maskfile = 'macro_mask/mask_waxs_eiger_ruiz_oct24.edf'\n",
    "\n",
    "coef = 0.0181 \n",
    "st.integration_correction(folder,asso,maskfile,coef)"
   ]
  },
  {
   "cell_type": "markdown",
   "metadata": {},
   "source": [
    "- récupération des fichiers et création de la video"
   ]
  },
  {
   "cell_type": "code",
   "execution_count": 7,
   "metadata": {},
   "outputs": [
    {
     "name": "stdout",
     "output_type": "stream",
     "text": [
      "{'S_C_1_P_1': {'basler': ['C:/Users/cayez/Documents/DONNEES_SIMON/LPCNO/Synchrotron/SoleilSWING_octobre24/Notebook_traitement/kin21_light\\\\copied_png_files\\\\@basler@S_C_1_P_1@04893.png'], 'eiger': ['C:/Users/cayez/Documents/DONNEES_SIMON/LPCNO/Synchrotron/SoleilSWING_octobre24/Notebook_traitement/kin21_light\\\\copied_png_files\\\\@eiger@S_C_1_P_1@04893.png'], 'corr_integration_': ['C:/Users/cayez/Documents/DONNEES_SIMON/LPCNO/Synchrotron/SoleilSWING_octobre24/Notebook_traitement/kin21_light\\\\copied_png_files\\\\@corr_integration_@S_C_1_P_1@04893.png'], 'pos_': ['C:/Users/cayez/Documents/DONNEES_SIMON/LPCNO/Synchrotron/SoleilSWING_octobre24/Notebook_traitement/kin21_light\\\\copied_png_files\\\\@pos_@S_C_1_P_1@04893.png']}, 'S_C_1_P_4': {'basler': ['C:/Users/cayez/Documents/DONNEES_SIMON/LPCNO/Synchrotron/SoleilSWING_octobre24/Notebook_traitement/kin21_light\\\\copied_png_files\\\\@basler@S_C_1_P_4@04896.png'], 'eiger': ['C:/Users/cayez/Documents/DONNEES_SIMON/LPCNO/Synchrotron/SoleilSWING_octobre24/Notebook_traitement/kin21_light\\\\copied_png_files\\\\@eiger@S_C_1_P_4@04896.png'], 'corr_integration_': ['C:/Users/cayez/Documents/DONNEES_SIMON/LPCNO/Synchrotron/SoleilSWING_octobre24/Notebook_traitement/kin21_light\\\\copied_png_files\\\\@corr_integration_@S_C_1_P_4@04896.png'], 'pos_': ['C:/Users/cayez/Documents/DONNEES_SIMON/LPCNO/Synchrotron/SoleilSWING_octobre24/Notebook_traitement/kin21_light\\\\copied_png_files\\\\@pos_@S_C_1_P_4@04896.png']}, 'S_C_1_P_5': {'basler': ['C:/Users/cayez/Documents/DONNEES_SIMON/LPCNO/Synchrotron/SoleilSWING_octobre24/Notebook_traitement/kin21_light\\\\copied_png_files\\\\@basler@S_C_1_P_5@04897.png'], 'eiger': ['C:/Users/cayez/Documents/DONNEES_SIMON/LPCNO/Synchrotron/SoleilSWING_octobre24/Notebook_traitement/kin21_light\\\\copied_png_files\\\\@eiger@S_C_1_P_5@04897.png'], 'corr_integration_': ['C:/Users/cayez/Documents/DONNEES_SIMON/LPCNO/Synchrotron/SoleilSWING_octobre24/Notebook_traitement/kin21_light\\\\copied_png_files\\\\@corr_integration_@S_C_1_P_5@04897.png'], 'pos_': ['C:/Users/cayez/Documents/DONNEES_SIMON/LPCNO/Synchrotron/SoleilSWING_octobre24/Notebook_traitement/kin21_light\\\\copied_png_files\\\\@pos_@S_C_1_P_5@04897.png']}}\n"
     ]
    }
   ],
   "source": [
    "vst.copy_png_files(folder)\n",
    "vst.create_grids_from_paths(folder)\n"
   ]
  },
  {
   "cell_type": "code",
   "execution_count": 8,
   "metadata": {},
   "outputs": [
    {
     "name": "stdout",
     "output_type": "stream",
     "text": [
      "C:/Users/cayez/Documents/DONNEES_SIMON/LPCNO/Synchrotron/SoleilSWING_octobre24/Notebook_traitement/kin21_light\\grid_images\n",
      "Moviepy - Building video C:/Users/cayez/Documents/DONNEES_SIMON/LPCNO/Synchrotron/SoleilSWING_octobre24/Notebook_traitement/kin21_light\\video.mp4.\n",
      "Moviepy - Writing video C:/Users/cayez/Documents/DONNEES_SIMON/LPCNO/Synchrotron/SoleilSWING_octobre24/Notebook_traitement/kin21_light\\video.mp4\n",
      "\n"
     ]
    },
    {
     "name": "stderr",
     "output_type": "stream",
     "text": [
      "                                                          \r"
     ]
    },
    {
     "name": "stdout",
     "output_type": "stream",
     "text": [
      "Moviepy - Done !\n",
      "Moviepy - video ready C:/Users/cayez/Documents/DONNEES_SIMON/LPCNO/Synchrotron/SoleilSWING_octobre24/Notebook_traitement/kin21_light\\video.mp4\n",
      "The video folder has been deleted.\n"
     ]
    }
   ],
   "source": [
    "vst.convert_video(folder)"
   ]
  }
 ],
 "metadata": {
  "kernelspec": {
   "display_name": "ai_py311",
   "language": "python",
   "name": "python3"
  },
  "language_info": {
   "codemirror_mode": {
    "name": "ipython",
    "version": 3
   },
   "file_extension": ".py",
   "mimetype": "text/x-python",
   "name": "python",
   "nbconvert_exporter": "python",
   "pygments_lexer": "ipython3",
   "version": "3.11.9"
  }
 },
 "nbformat": 4,
 "nbformat_minor": 2
}
