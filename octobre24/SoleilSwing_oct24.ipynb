{
 "cells": [
  {
   "cell_type": "markdown",
   "metadata": {},
   "source": [
    "# <center><u>RUN SWING SOLEIL octobre24</u></center>"
   ]
  },
  {
   "cell_type": "code",
   "execution_count": 1,
   "metadata": {},
   "outputs": [],
   "source": [
    "\n",
    "from SwingTools import extract_from_h5 as extract\n",
    "from SwingTools import integrate as integ\n",
    "from SwingTools import save_exported_data\n",
    "from SwingTools import extract_sample_names\n",
    "\n",
    "from matplotlib import pyplot as plt\n",
    "import numpy as np\n",
    "#import fabio\n",
    "import glob\n",
    "import os\n"
   ]
  },
  {
   "cell_type": "markdown",
   "metadata": {},
   "source": [
    "- Extract data from *.h5 file"
   ]
  },
  {
   "cell_type": "code",
   "execution_count": 2,
   "metadata": {},
   "outputs": [],
   "source": [
    "data_folder = 'C:/Users/cayez/Documents/DONNEES_SIMON/LPCNO/Synchrotron/SoleilSWING_octobre24/Notebook_traitement/dryed_cappilary/'\n",
    "file = data_folder+'rodriguez_10448_2024-10-14_02-17-36.h5'"
   ]
  },
  {
   "cell_type": "code",
   "execution_count": null,
   "metadata": {},
   "outputs": [],
   "source": [
    "sample_name, eiger, basler_image, position, params, time_stamps, transmission = extract(file,print_output=True)"
   ]
  },
  {
   "cell_type": "code",
   "execution_count": null,
   "metadata": {},
   "outputs": [],
   "source": [
    "print(position)"
   ]
  },
  {
   "cell_type": "markdown",
   "metadata": {},
   "source": [
    "- Plot Basler Image"
   ]
  },
  {
   "cell_type": "code",
   "execution_count": null,
   "metadata": {},
   "outputs": [],
   "source": [
    "fig,ax = plt.subplots()\n",
    "ax.imshow(basler_image,cmap='gray')\n",
    ";\n"
   ]
  },
  {
   "cell_type": "markdown",
   "metadata": {},
   "source": [
    "- Plot Eiger"
   ]
  },
  {
   "cell_type": "code",
   "execution_count": null,
   "metadata": {},
   "outputs": [],
   "source": [
    "\n",
    "# Calculate the number of rows and columns for the subplots\n",
    "n_images, height, width = eiger.shape\n",
    "n_cols = 4\n",
    "n_rows = (n_images + n_cols - 1) // n_cols\n",
    "\n",
    "# Create a figure and axis array\n",
    "fig, ax = plt.subplots(n_rows, n_cols, figsize=(15, 15))\n",
    "\n",
    "# Loop over the images and plot them on subplots\n",
    "for i in range(n_images):\n",
    "    row = i // n_cols\n",
    "    col = i % n_cols\n",
    "    ax[row, col].imshow(np.log1p(eiger[i]), cmap='jet')\n",
    "    ax[row, col].axis('off')  # Remove axis ticks and labels\n",
    "\n",
    "# Remove any empty subplots\n",
    "for j in range(n_images, n_rows * n_cols):\n",
    "    row = j // n_cols\n",
    "    col = j % n_cols\n",
    "    ax[row, col].axis('off')\n",
    "\n",
    "# Adjust the spacing between subplots\n",
    "\n",
    "plt.subplots_adjust(wspace=0.01, hspace=0)\n",
    "\n",
    "plt.show()"
   ]
  },
  {
   "cell_type": "markdown",
   "metadata": {},
   "source": [
    "- Integration Iso"
   ]
  },
  {
   "cell_type": "code",
   "execution_count": 7,
   "metadata": {},
   "outputs": [],
   "source": [
    "pixel_size_x = params['PixSize_x']\n",
    "pixel_size_z = params['PixSize_z']\n",
    "bin_x = params['Binning_1']\n",
    "bin_y = params['Binning_2']\n",
    "distance_m = params['SampleDistance']\n",
    "x_center = params['Center_1']\n",
    "z_center = params['Center_2']\n",
    "wl = params['WaveLength']\n",
    "maskdata = 'None'\n",
    "\n",
    "nbins = 1000            #??????????????\n",
    "unit_type = \"q_A^-1\"    #??????????????\n",
    "#mask = "
   ]
  },
  {
   "cell_type": "markdown",
   "metadata": {},
   "source": [
    "- Integration of image eiger[0] without mask"
   ]
  },
  {
   "cell_type": "code",
   "execution_count": null,
   "metadata": {},
   "outputs": [],
   "source": [
    "q_iso,i_iso = integ(eiger[0],pixel_size_x,pixel_size_z,bin_x,bin_y,distance_m,x_center, z_center,unit_type,nbins,wl)\n",
    "fig,ax = plt.subplots()\n",
    "ax.loglog(q_iso,i_iso)"
   ]
  },
  {
   "cell_type": "markdown",
   "metadata": {},
   "source": [
    "- Integration of image eiger[0] with mask"
   ]
  },
  {
   "cell_type": "code",
   "execution_count": 9,
   "metadata": {},
   "outputs": [],
   "source": [
    "maskfile = 'mask.edf'\n",
    "# mask=fabio.open(maskfile)\n",
    "# maskdata=mask.data"
   ]
  },
  {
   "cell_type": "code",
   "execution_count": null,
   "metadata": {},
   "outputs": [],
   "source": [
    "q_iso,i_iso = integ(eiger[0],pixel_size_x,pixel_size_z,bin_x,bin_y,distance_m,x_center, z_center,unit_type,nbins,wl,maskfile)\n",
    "fig,ax = plt.subplots()\n",
    "ax.loglog(q_iso,i_iso);"
   ]
  },
  {
   "cell_type": "code",
   "execution_count": null,
   "metadata": {},
   "outputs": [],
   "source": [
    "integration = np.array([q_iso,i_iso])\n",
    "print(integration.shape)"
   ]
  },
  {
   "cell_type": "markdown",
   "metadata": {},
   "source": [
    "- Save data to files"
   ]
  },
  {
   "cell_type": "code",
   "execution_count": null,
   "metadata": {},
   "outputs": [],
   "source": [
    "# Get a list of all .h5 files in the data_folde\n",
    "h5_files = glob.glob(data_folder + '/*.h5')\n",
    "print(h5_files)\n",
    "\n",
    "for i,file in enumerate (h5_files):\n",
    "    output_base = os.path.basename(h5_files[i]).replace('.h5', '')\n",
    "    print(output_base)"
   ]
  },
  {
   "cell_type": "code",
   "execution_count": 13,
   "metadata": {},
   "outputs": [],
   "source": [
    "file = 'C:/Users/cayez/Documents/DONNEES_SIMON/LPCNO/Synchrotron/SoleilSWING_octobre24/Notebook_traitement/dryed_cappilary/rodriguez_10448_2024-10-14_02-17-36.h5'"
   ]
  },
  {
   "cell_type": "code",
   "execution_count": null,
   "metadata": {},
   "outputs": [],
   "source": [
    "save_exported_data(file,sample_name, eiger, basler_image, position, params, time_stamps, transmission, integration,maskfile)"
   ]
  },
  {
   "cell_type": "markdown",
   "metadata": {},
   "source": [
    "- Extract sample name of all the h5 files in a folder"
   ]
  },
  {
   "cell_type": "code",
   "execution_count": null,
   "metadata": {},
   "outputs": [],
   "source": []
  },
  {
   "cell_type": "code",
   "execution_count": 3,
   "metadata": {},
   "outputs": [
    {
     "name": "stdout",
     "output_type": "stream",
     "text": [
      "C:/Users/cayez/Documents/DONNEES_SIMON/LPCNO/Synchrotron/SoleilSWING_octobre24/Notebook_traitement/donnees_test\\kin_1_emp3\\rodriguez_00086_2024-10-10_16-59-19.h5\n"
     ]
    }
   ],
   "source": [
    "#directory = 'T:/LPCNO/NCO/Manips/DATA_SAXS/2024_10_11_SWING_Rohan/20240444/2024/Run4/rodriguez'\n",
    "directory = 'C:/Users/cayez/Documents/DONNEES_SIMON/LPCNO/Synchrotron/SoleilSWING_octobre24/Notebook_traitement/donnees_test'\n",
    "sample_names = extract_sample_names(directory)\n",
    "print(sample_names[0][0])\n"
   ]
  },
  {
   "cell_type": "code",
   "execution_count": 4,
   "metadata": {},
   "outputs": [
    {
     "name": "stdout",
     "output_type": "stream",
     "text": [
      "(328,)\n"
     ]
    }
   ],
   "source": [
    "print(sample_names.shape)"
   ]
  },
  {
   "cell_type": "code",
   "execution_count": 5,
   "metadata": {},
   "outputs": [
    {
     "name": "stdout",
     "output_type": "stream",
     "text": [
      "['KIN_1_emp3_Chan_1_POS_1' 'KIN_1_emp3_Chan_1_POS_2'\n",
      " 'KIN_1_emp3_Chan_1_POS_3' 'KIN_1_emp3_Chan_1_POS_4'\n",
      " 'KIN_1_emp3_Chan_1_POS_5' 'KIN_1_emp3_Chan_1_POS_6'\n",
      " 'KIN_1_emp3_Chan_1_POS_7' 'KIN_1_emp3_Chan_1_POS_8'\n",
      " 'KIN_1_emp3_Chan_1_POS_9' 'KIN_1_emp3_Chan_1_POS_10'\n",
      " 'KIN_1_emp3_Chan_1_POS_11' 'KIN_1_emp3_Chan_1_POS_12'\n",
      " 'KIN_1_emp3_Chan_1_POS_13' 'KIN_1_emp3_Chan_1_POS_14'\n",
      " 'KIN_1_emp3_Chan_1_POS_15' 'KIN_1_emp3_Chan_1_POS_16'\n",
      " 'KIN_1_emp3_Chan_1_POS_17' 'KIN_1_emp3_Chan_1_POS_18'\n",
      " 'KIN_1_emp3_Chan_1_POS_19' 'KIN_1_emp3_Chan_1_POS_20'\n",
      " 'KIN_1_emp3_Chan_1_POS_21' 'KIN_1_emp3_Chan_1_POS_22'\n",
      " 'KIN_1_emp3_Chan_2_POS_1' 'KIN_1_emp3_Chan_2_POS_2'\n",
      " 'KIN_1_emp3_Chan_2_POS_3' 'KIN_1_emp3_Chan_2_POS_4'\n",
      " 'KIN_1_emp3_Chan_2_POS_5' 'KIN_1_emp3_Chan_2_POS_6'\n",
      " 'KIN_1_emp3_Chan_2_POS_7' 'KIN_1_emp3_Chan_2_POS_8'\n",
      " 'KIN_1_emp3_Chan_2_POS_9' 'KIN_1_emp3_Chan_2_POS_10'\n",
      " 'KIN_1_emp3_Chan_2_POS_11' 'KIN_1_emp3_Chan_2_POS_12'\n",
      " 'KIN_1_emp3_Chan_2_POS_13' 'KIN_1_emp3_Chan_2_POS_14'\n",
      " 'KIN_1_emp3_Chan_2_POS_15' 'KIN_1_emp3_Chan_2_POS_16'\n",
      " 'KIN_1_emp3_Chan_2_POS_17' 'KIN_1_emp3_Chan_2_POS_18'\n",
      " 'KIN_1_emp3_Chan_2_POS_19' 'KIN_1_emp3_Chan_2_POS_20'\n",
      " 'KIN_1_emp3_Chan_2_POS_21' 'KIN_1_emp3_Chan_2_POS_22'\n",
      " 'KIN_1_hex_Chan_1_POS_1' 'KIN_1_hex_Chan_1_POS_2'\n",
      " 'KIN_1_hex_Chan_1_POS_3' 'KIN_1_hex_Chan_1_POS_4'\n",
      " 'KIN_1_hex_Chan_1_POS_5' 'KIN_1_hex_Chan_1_POS_6'\n",
      " 'KIN_1_hex_Chan_1_POS_7' 'KIN_1_hex_Chan_1_POS_8'\n",
      " 'KIN_1_hex_Chan_1_POS_9' 'KIN_1_hex_Chan_1_POS_10'\n",
      " 'KIN_1_hex_Chan_1_POS_11' 'KIN_1_hex_Chan_1_POS_12'\n",
      " 'KIN_1_hex_Chan_1_POS_13' 'KIN_1_hex_Chan_1_POS_14'\n",
      " 'KIN_1_hex_Chan_1_POS_15' 'KIN_1_hex_Chan_1_POS_16'\n",
      " 'KIN_1_hex_Chan_1_POS_17' 'KIN_1_hex_Chan_1_POS_18'\n",
      " 'KIN_1_hex_Chan_1_POS_19' 'KIN_1_hex_Chan_1_POS_20'\n",
      " 'KIN_1_hex_Chan_1_POS_21' 'KIN_1_hex_Chan_1_POS_22'\n",
      " 'KIN_1_hex_Chan_2_POS_1' 'KIN_1_hex_Chan_2_POS_2'\n",
      " 'KIN_1_hex_Chan_2_POS_3' 'KIN_1_hex_Chan_2_POS_4'\n",
      " 'KIN_1_hex_Chan_2_POS_5' 'KIN_1_hex_Chan_2_POS_6'\n",
      " 'KIN_1_hex_Chan_2_POS_7' 'KIN_1_hex_Chan_2_POS_8'\n",
      " 'KIN_1_hex_Chan_2_POS_9' 'KIN_1_hex_Chan_2_POS_10'\n",
      " 'KIN_1_hex_Chan_2_POS_11' 'KIN_1_hex_Chan_2_POS_12'\n",
      " 'KIN_1_hex_Chan_2_POS_13' 'KIN_1_hex_Chan_2_POS_14'\n",
      " 'KIN_1_hex_Chan_2_POS_15' 'KIN_1_hex_Chan_2_POS_16'\n",
      " 'KIN_1_hex_Chan_2_POS_17' 'KIN_1_hex_Chan_2_POS_18'\n",
      " 'KIN_1_hex_Chan_2_POS_19' 'KIN_1_hex_Chan_2_POS_20'\n",
      " 'KIN_1_hex_Chan_2_POS_21' 'KIN_1_hex_Chan_2_POS_22' 'S_C_1_P_1'\n",
      " 'S_C_1_P_2' 'S_C_1_P_3' 'S_C_1_P_4' 'S_C_1_P_5' 'S_C_1_P_6' 'S_C_1_P_7'\n",
      " 'S_C_1_P_8' 'S_C_1_P_9' 'S_C_1_P_10' 'S_C_1_P_11' 'S_C_1_P_12'\n",
      " 'S_C_1_P_13' 'S_C_1_P_14' 'S_C_1_P_15' 'S_C_1_P_16' 'S_C_1_P_17'\n",
      " 'S_C_1_P_18' 'S_C_1_P_19' 'S_C_1_P_20' 'S_C_1_P_21' 'S_C_1_P_22'\n",
      " 'S_C_1_P_23' 'S_C_1_P_24' 'S_C_1_P_25' 'S_C_1_P_26' 'S_C_1_P_27'\n",
      " 'S_C_1_P_28' 'S_C_1_P_29' 'S_C_1_P_30' 'S_C_1_P_31' 'S_C_1_P_32'\n",
      " 'S_C_1_P_33' 'S_C_1_P_34' 'S_C_1_P_35' 'S_C_1_P_36' 'S_C_1_P_37'\n",
      " 'S_C_1_P_38' 'S_C_1_P_39' 'S_C_1_P_40' 'S_C_1_P_41' 'S_C_1_P_42'\n",
      " 'S_C_1_P_43' 'S_C_1_P_44' 'S_C_1_P_45' 'S_C_1_P_46' 'S_C_1_P_47'\n",
      " 'S_C_1_P_48' 'S_C_1_P_49' 'S_C_1_P_50' 'S_C_2_P_1' 'S_C_2_P_2'\n",
      " 'S_C_2_P_3' 'S_C_2_P_4' 'S_C_2_P_5' 'S_C_2_P_6' 'S_C_2_P_7' 'S_C_2_P_8'\n",
      " 'S_C_2_P_9' 'S_C_2_P_10' 'S_C_2_P_11' 'S_C_2_P_12' 'S_C_2_P_13'\n",
      " 'S_C_2_P_14' 'S_C_2_P_15' 'S_C_2_P_16' 'S_C_2_P_17' 'S_C_2_P_18'\n",
      " 'S_C_2_P_19' 'S_C_2_P_20' 'S_C_2_P_21' 'S_C_2_P_22' 'S_C_2_P_23'\n",
      " 'S_C_2_P_24' 'S_C_2_P_25' 'S_C_2_P_26' 'S_C_2_P_27' 'S_C_2_P_28'\n",
      " 'S_C_2_P_29' 'S_C_2_P_30' 'S_C_2_P_31' 'S_C_2_P_32' 'S_C_2_P_33'\n",
      " 'S_C_2_P_34' 'S_C_2_P_35' 'S_C_2_P_36' 'S_C_2_P_37' 'S_C_2_P_38'\n",
      " 'S_C_2_P_39' 'S_C_2_P_40' 'S_C_2_P_41' 'S_C_2_P_42' 'S_C_2_P_43'\n",
      " 'S_C_2_P_44' 'S_C_2_P_45' 'S_C_2_P_46' 'S_C_2_P_47' 'S_C_2_P_48'\n",
      " 'S_C_2_P_49' 'S_C_2_P_50' 'S_C_2_SF_1_P_50' 'S_C_2_SF_1_P_49'\n",
      " 'S_C_2_SF_1_P_48' 'S_C_2_SF_1_P_47' 'S_C_2_SF_1_P_46' 'S_C_2_SF_1_P_45'\n",
      " 'S_C_2_SF_1_P_44' 'S_C_2_SF_1_P_43' 'S_C_2_SF_1_P_42' 'S_C_2_SF_1_P_41'\n",
      " 'S_C_2_SF_1_P_40' 'S_C_2_SF_1_P_39' 'S_C_2_SF_1_P_38' 'S_C_2_SF_1_P_37'\n",
      " 'S_C_2_SF_1_P_36' 'S_C_2_SF_1_P_35' 'S_C_2_SF_1_P_34' 'S_C_2_SF_1_P_33'\n",
      " 'S_C_2_SF_1_P_32' 'S_C_2_SF_1_P_31' 'S_C_2_SF_1_P_30' 'S_C_2_SF_1_P_29'\n",
      " 'S_C_2_SF_1_P_28' 'S_C_2_SF_1_P_27' 'S_C_2_SF_1_P_26' 'S_C_2_SF_1_P_25'\n",
      " 'S_C_2_SF_1_P_24' 'S_C_2_SF_1_P_23' 'S_C_2_SF_1_P_22' 'S_C_2_SF_1_P_21'\n",
      " 'S_C_2_SF_1_P_20' 'S_C_2_SF_1_P_19' 'S_C_2_SF_1_P_18' 'S_C_2_SF_1_P_17'\n",
      " 'S_C_2_SF_1_P_16' 'S_C_2_SF_1_P_15' 'S_C_2_SF_1_P_14' 'S_C_2_SF_1_P_13'\n",
      " 'S_C_2_SF_1_P_12' 'S_C_2_SF_1_P_11' 'R_C_1_P_1' 'R_C_1_P_2' 'R_C_1_P_3'\n",
      " 'R_C_1_P_4' 'R_C_1_P_5' 'R_C_1_P_6' 'R_C_1_P_7' 'R_C_1_P_8' 'R_C_1_P_9'\n",
      " 'R_C_1_P_10' 'R_C_1_P_11' 'R_C_1_P_12' 'R_C_1_P_13' 'R_C_1_P_14'\n",
      " 'R_C_1_P_15' 'R_C_1_P_16' 'R_C_1_P_17' 'R_C_1_P_18' 'R_C_1_P_19'\n",
      " 'R_C_1_P_20' 'R_C_1_P_21' 'R_C_1_P_22' 'R_C_1_P_23' 'R_C_1_P_24'\n",
      " 'R_C_1_P_25' 'R_C_1_P_26' 'R_C_1_P_27' 'R_C_1_P_28' 'R_C_1_P_29'\n",
      " 'R_C_1_P_30' 'R_C_1_P_31' 'R_C_1_P_32' 'R_C_1_P_33' 'R_C_1_P_34'\n",
      " 'R_C_1_P_35' 'R_C_1_P_36' 'R_C_1_P_37' 'R_C_1_P_38' 'R_C_1_P_39'\n",
      " 'R_C_1_P_40' 'R_C_1_P_41' 'R_C_1_P_42' 'R_C_1_P_43' 'R_C_1_P_44'\n",
      " 'R_C_1_P_45' 'R_C_1_P_46' 'R_C_1_P_47' 'R_C_1_P_48' 'R_C_1_P_49'\n",
      " 'R_C_1_P_50' 'R_C_2_P_1' 'R_C_2_P_2' 'R_C_2_P_3' 'R_C_2_P_4' 'R_C_2_P_5'\n",
      " 'R_C_2_P_6' 'R_C_2_P_7' 'R_C_2_P_8' 'R_C_2_P_9' 'R_C_2_P_10' 'R_C_2_P_11'\n",
      " 'R_C_2_P_12' 'R_C_2_P_13' 'R_C_2_P_14' 'R_C_2_P_15' 'R_C_2_P_16'\n",
      " 'R_C_2_P_17' 'R_C_2_P_18' 'R_C_2_P_19' 'R_C_2_P_20' 'R_C_2_P_21'\n",
      " 'R_C_2_P_22' 'R_C_2_P_23' 'R_C_2_P_24' 'R_C_2_P_25' 'R_C_2_P_26'\n",
      " 'R_C_2_P_27' 'R_C_2_P_28' 'R_C_2_P_29' 'R_C_2_P_30' 'R_C_2_P_31'\n",
      " 'R_C_2_P_32' 'R_C_2_P_33' 'R_C_2_P_34' 'R_C_2_P_35' 'R_C_2_P_36'\n",
      " 'R_C_2_P_37' 'R_C_2_P_38' 'R_C_2_P_39' 'R_C_2_P_40' 'R_C_2_P_41'\n",
      " 'R_C_2_P_42' 'R_C_2_P_43' 'R_C_2_P_44' 'R_C_2_P_45' 'R_C_2_P_46'\n",
      " 'R_C_2_P_47' 'R_C_2_P_48' 'R_C_2_P_49' 'R_C_2_P_50']\n"
     ]
    }
   ],
   "source": [
    "print(sample_names['sample_name'])  # prints an array of sample names"
   ]
  },
  {
   "cell_type": "code",
   "execution_count": 7,
   "metadata": {},
   "outputs": [
    {
     "name": "stdout",
     "output_type": "stream",
     "text": [
      "Sample Name:  KIN_1_emp3_Chan_2_POS_4\n",
      "File Path:  C:/Users/cayez/Documents/DONNEES_SIMON/LPCNO/Synchrotron/SoleilSWING_octobre24/Notebook_traitement/donnees_test\\kin_1_emp3\\rodriguez_00111_2024-10-10_17-04-56.h5\n"
     ]
    }
   ],
   "source": [
    "# Assuming sample_names is the structured NumPy array you created\n",
    "file_path = sample_names['file_path'][25]\n",
    "sample_name = sample_names['sample_name'][25]\n",
    "print('Sample Name: ',sample_name)\n",
    "print('File Path: ',file_path)"
   ]
  }
 ],
 "metadata": {
  "kernelspec": {
   "display_name": "ai_py311",
   "language": "python",
   "name": "python3"
  },
  "language_info": {
   "codemirror_mode": {
    "name": "ipython",
    "version": 3
   },
   "file_extension": ".py",
   "mimetype": "text/x-python",
   "name": "python",
   "nbconvert_exporter": "python",
   "pygments_lexer": "ipython3",
   "version": "3.11.9"
  }
 },
 "nbformat": 4,
 "nbformat_minor": 2
}
