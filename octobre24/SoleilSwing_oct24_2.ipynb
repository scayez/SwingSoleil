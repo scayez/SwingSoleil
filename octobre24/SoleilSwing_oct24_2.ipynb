{
 "cells": [
  {
   "cell_type": "markdown",
   "metadata": {},
   "source": [
    "# <center><u>RUN SWING SOLEIL octobre24</u></center>"
   ]
  },
  {
   "cell_type": "code",
   "execution_count": 1,
   "metadata": {},
   "outputs": [],
   "source": [
    "\n",
    "from SwingTools import extract_from_h5 as extract\n",
    "from SwingTools import integrate as integ\n",
    "from SwingTools import save_exported_data\n",
    "from SwingTools import extract_sample_names\n",
    "from SwingTools import plot_integration\n",
    "\n",
    "from matplotlib import pyplot as plt\n",
    "import numpy as np\n",
    "#import fabio\n",
    "import glob\n",
    "import os\n"
   ]
  },
  {
   "cell_type": "markdown",
   "metadata": {},
   "source": [
    "- Extract data from *.h5 file"
   ]
  },
  {
   "cell_type": "code",
   "execution_count": 2,
   "metadata": {},
   "outputs": [],
   "source": [
    "data_folder = 'C:/Users/cayez/Documents/DONNEES_SIMON/LPCNO/Synchrotron/SoleilSWING_octobre24/Notebook_traitement/dryed_cappilary/'\n",
    "file = data_folder+'rodriguez_10448_2024-10-14_02-17-36.h5'"
   ]
  },
  {
   "cell_type": "code",
   "execution_count": 3,
   "metadata": {},
   "outputs": [
    {
     "name": "stdout",
     "output_type": "stream",
     "text": [
      "Sample Name --> C1_1\n",
      "Taille Eiger --> (6, 1083, 1035)\n",
      "Taille Eiger Mean --> (1083, 1035)\n",
      "Taille Basler --> (1024, 1024)\n",
      "Positions --> {'X_start': array([53.0002]), 'X_end': array([53.0002]), 'Z_start': array([96.7003]), 'Z_end': array([96.7003])}\n",
      "Params --> {'Sample_Name': 'C1_1', 'WaveLength': 1.0332090578339936, 'Center_1': 283.5023430636491, 'Center_2': 93.444886362309, 'PixSize_x': 7.5e-05, 'PixSize_z': 7.5e-05, 'SampleDistance': 0.8555692532100001, 'Dim_1': 1083, 'Dim_2': 1035, 'ExposureTime': 1, 'Binning_1': 2, 'Binning_2': 2, 'nb_frames': 6}\n",
      "Time_stamps --> [[1.41192198]\n",
      " [3.07630301]\n",
      " [4.79020286]\n",
      " [6.5454309 ]\n",
      " [8.23705101]\n",
      " [9.94724798]]\n",
      "Transmission --> [0.44755311 0.44763207 0.44806943 0.44821087 0.44826075 0.448663  ]\n"
     ]
    }
   ],
   "source": [
    "sample_name, eiger, eiger_mean, basler_image, position, params, time_stamps, transmission = extract(file,print_output=True)"
   ]
  },
  {
   "cell_type": "code",
   "execution_count": 4,
   "metadata": {},
   "outputs": [],
   "source": [
    "maskfile = 'mask.edf'\n",
    "integration_mean = integ(eiger_mean,params,maskfile)"
   ]
  },
  {
   "cell_type": "markdown",
   "metadata": {},
   "source": [
    "- Plot and/or save plot"
   ]
  },
  {
   "cell_type": "code",
   "execution_count": 5,
   "metadata": {},
   "outputs": [],
   "source": [
    "plot_integration(integration_mean,sample_name,data_folder=data_folder,plot=None,save_path=data_folder)"
   ]
  },
  {
   "cell_type": "markdown",
   "metadata": {},
   "source": [
    "- Save data to files"
   ]
  },
  {
   "cell_type": "code",
   "execution_count": 6,
   "metadata": {},
   "outputs": [
    {
     "name": "stdout",
     "output_type": "stream",
     "text": [
      "C:/Users/cayez/Documents/DONNEES_SIMON/LPCNO/Synchrotron/SoleilSWING_octobre24/Notebook_traitement/dryed_cappilary/C1_1_10448\\Eiger_image/rodriguez_10448_2024-10-14_02-17-36_eiger.npy\n",
      "C:/Users/cayez/Documents/DONNEES_SIMON/LPCNO/Synchrotron/SoleilSWING_octobre24/Notebook_traitement/dryed_cappilary/C1_1_10448\\basler_image/rodriguez_10448_2024-10-14_02-17-36_basler_image.npy\n",
      "C:/Users/cayez/Documents/DONNEES_SIMON/LPCNO/Synchrotron/SoleilSWING_octobre24/Notebook_traitement/dryed_cappilary/C1_1_10448\\positions/rodriguez_10448_2024-10-14_02-17-36_positions.npy\n",
      "C:/Users/cayez/Documents/DONNEES_SIMON/LPCNO/Synchrotron/SoleilSWING_octobre24/Notebook_traitement/dryed_cappilary/C1_1_10448\\params/rodriguez_10448_2024-10-14_02-17-36_params.npy\n",
      "C:/Users/cayez/Documents/DONNEES_SIMON/LPCNO/Synchrotron/SoleilSWING_octobre24/Notebook_traitement/dryed_cappilary/C1_1_10448\\time_stamp/rodriguez_10448_2024-10-14_02-17-36_time_stamps.npy\n",
      "C:/Users/cayez/Documents/DONNEES_SIMON/LPCNO/Synchrotron/SoleilSWING_octobre24/Notebook_traitement/dryed_cappilary/C1_1_10448\\transmission/rodriguez_10448_2024-10-14_02-17-36_transmission.npy\n",
      "C:/Users/cayez/Documents/DONNEES_SIMON/LPCNO/Synchrotron/SoleilSWING_octobre24/Notebook_traitement/dryed_cappilary/C1_1_10448\\integration/rodriguez_10448_2024-10-14_02-17-36_integration.npy\n",
      "(2, 1000)\n"
     ]
    }
   ],
   "source": [
    "save_exported_data(file,sample_name, eiger, basler_image, position, params, time_stamps, transmission, integration_mean ,maskfile)"
   ]
  }
 ],
 "metadata": {
  "kernelspec": {
   "display_name": "ai_py311",
   "language": "python",
   "name": "python3"
  },
  "language_info": {
   "codemirror_mode": {
    "name": "ipython",
    "version": 3
   },
   "file_extension": ".py",
   "mimetype": "text/x-python",
   "name": "python",
   "nbconvert_exporter": "python",
   "pygments_lexer": "ipython3",
   "version": "3.11.9"
  }
 },
 "nbformat": 4,
 "nbformat_minor": 2
}
