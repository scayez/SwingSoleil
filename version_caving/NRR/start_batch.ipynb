{
 "cells": [
  {
   "cell_type": "markdown",
   "metadata": {},
   "source": [
    "## Start Batch"
   ]
  },
  {
   "cell_type": "code",
   "execution_count": null,
   "metadata": {},
   "outputs": [],
   "source": [
    "import batch_video as bv\n",
    "import glob\n",
    "import os"
   ]
  },
  {
   "cell_type": "code",
   "execution_count": null,
   "metadata": {},
   "outputs": [],
   "source": [
    "\n",
    "data_folder =  '/home-local/ratel-ra/Bureau/Lien_vers_NCO/Manips/DATA_SAXS/SWING_µSAXS/20231871/2024/Run3/assemblages/co12_serie/'\n",
    "mask = '/home-local/ratel-ra/Bureau/Lien_vers_NCO/Manips/DATA_SAXS/SWING_µSAXS/SwingSoleil-main/mask.edf'\n",
    "offset = 0\n",
    "sector_angle = 45\n",
    "\n",
    "# Get the list of all directories in the parent directory\n",
    "directories = [dir for dir in glob.glob(os.path.join(data_folder, '*/')) if os.path.isdir(dir)]\n",
    "fichier = open(data_folder+'/log_file.txt', 'w')\n",
    "for directory in directories:\n",
    "    try:\n",
    "        bv.batch(directory, mask, offset,sector_angle)\n",
    "        fichier.write('success: %s '%directory+'\\n')\n",
    "    except:\n",
    "        fichier.write('FAILED: %s '%directory+'\\n')\n",
    "    #print('Finished:', directory)\n",
    "\n",
    "   \n",
    "fichier.close()\n",
    "\n",
    "#bv.batch(data_folder, mask, offset,sector_angle)\n"
   ]
  }
 ],
 "metadata": {
  "kernelspec": {
   "display_name": "ai_py311",
   "language": "python",
   "name": "python3"
  },
  "language_info": {
   "codemirror_mode": {
    "name": "ipython",
    "version": 3
   },
   "file_extension": ".py",
   "mimetype": "text/x-python",
   "name": "python",
   "nbconvert_exporter": "python",
   "pygments_lexer": "ipython3",
   "version": "3.11.9"
  }
 },
 "nbformat": 4,
 "nbformat_minor": 2
}
