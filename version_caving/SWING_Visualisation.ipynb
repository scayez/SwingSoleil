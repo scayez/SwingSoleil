{
 "cells": [
  {
   "cell_type": "markdown",
   "metadata": {},
   "source": [
    "# Conversion of SOLEIL SWING *.h5 files to video plot with:\n",
    "- Diffusion image\n",
    "- Basler image with spot position\n",
    "- Integrations (Horizontal, Vertical, Iso)\n",
    "- 2D map (Azimuth, Radial)"
   ]
  },
  {
   "cell_type": "code",
   "execution_count": 1,
   "metadata": {},
   "outputs": [],
   "source": [
    "import glob\n",
    "import os\n",
    "from IPython.display import clear_output\n",
    "import numpy as np\n",
    "from matplotlib import pyplot as plt\n",
    "import matplotlib.patches as patches\n",
    "from IPython.display import HTML\n",
    "import h5_integrate as integ\n",
    "from IPython.display import clear_output\n",
    "from moviepy.editor import ImageSequenceClip\n",
    "import fabio\n",
    "%matplotlib widget"
   ]
  },
  {
   "cell_type": "markdown",
   "metadata": {},
   "source": [
    "## Data extraction from h5 (images, positions and integrations) to numpy arrays"
   ]
  },
  {
   "cell_type": "code",
   "execution_count": 2,
   "metadata": {},
   "outputs": [],
   "source": [
    "path = 'C:/Users/cayez/Documents/DONNEES SIMON/LPCNO/Synchrotron/SOLSEIL_SWINGjuillet24/notebooks/images_test/images_run_juillet_sample/'\n",
    "data_dir= path\n",
    "offset = 0\n",
    "sector_angle = 10\n",
    "save_data = True\n",
    "save_positions = True \n",
    "save_basler_image = True\n",
    "mask='C:/Users/cayez/Documents/DONNEES SIMON/LPCNO/Synchrotron/SOLSEIL_SWINGjuillet24/notebooks/v2/images/mask.edf'  "
   ]
  },
  {
   "cell_type": "code",
   "execution_count": 3,
   "metadata": {},
   "outputs": [
    {
     "name": "stdout",
     "output_type": "stream",
     "text": [
      "['C:/Users/cayez/Documents/DONNEES SIMON/LPCNO/Synchrotron/SOLSEIL_SWINGjuillet24/notebooks/images_test/images_run_juillet_sample\\\\lacroix_00061_2024-07-19_12-53-16.h5', 'C:/Users/cayez/Documents/DONNEES SIMON/LPCNO/Synchrotron/SOLSEIL_SWINGjuillet24/notebooks/images_test/images_run_juillet_sample\\\\lacroix_00062_2024-07-19_12-54-08.h5']\n"
     ]
    },
    {
     "ename": "KeyboardInterrupt",
     "evalue": "",
     "output_type": "error",
     "traceback": [
      "\u001b[1;31m---------------------------------------------------------------------------\u001b[0m",
      "\u001b[1;31mKeyboardInterrupt\u001b[0m                         Traceback (most recent call last)",
      "Cell \u001b[1;32mIn[3], line 1\u001b[0m\n\u001b[1;32m----> 1\u001b[0m \u001b[38;5;28mdir\u001b[39m\u001b[38;5;241m=\u001b[39m\u001b[43minteg\u001b[49m\u001b[38;5;241;43m.\u001b[39;49m\u001b[43mextract_h5_from_dir\u001b[49m\u001b[43m(\u001b[49m\u001b[43mdata_dir\u001b[49m\u001b[43m,\u001b[49m\u001b[43moffset\u001b[49m\u001b[43m,\u001b[49m\u001b[43msector_angle\u001b[49m\u001b[43m,\u001b[49m\u001b[43mmask\u001b[49m\u001b[43m,\u001b[49m\u001b[43msave_data\u001b[49m\u001b[38;5;241;43m=\u001b[39;49m\u001b[43msave_data\u001b[49m\u001b[43m,\u001b[49m\n\u001b[0;32m      2\u001b[0m \u001b[43m                              \u001b[49m\u001b[43msave_positions\u001b[49m\u001b[43m \u001b[49m\u001b[38;5;241;43m=\u001b[39;49m\u001b[43m \u001b[49m\u001b[43msave_positions\u001b[49m\u001b[43m,\u001b[49m\u001b[43m \u001b[49m\u001b[43msave_basler_image\u001b[49m\u001b[43m \u001b[49m\u001b[38;5;241;43m=\u001b[39;49m\u001b[43m \u001b[49m\u001b[43msave_basler_image\u001b[49m\u001b[43m)\u001b[49m\n\u001b[0;32m      3\u001b[0m \u001b[38;5;28mprint\u001b[39m(\u001b[38;5;124m'\u001b[39m\u001b[38;5;124mExtracted Numpy arrays are stored in \u001b[39m\u001b[38;5;124m'\u001b[39m,\u001b[38;5;28mdir\u001b[39m)\n",
      "File \u001b[1;32mc:\\Users\\cayez\\Documents\\DONNEES SIMON\\LPCNO\\Synchrotron\\SOLSEIL_SWINGjuillet24\\notebooks\\v3\\h5_integrate.py:227\u001b[0m, in \u001b[0;36mextract_h5_from_dir\u001b[1;34m(directory, offset, sector_angle, maskfile, save_data, save_positions, save_basler_image)\u001b[0m\n\u001b[0;32m    224\u001b[0m output_dir \u001b[38;5;241m=\u001b[39m os\u001b[38;5;241m.\u001b[39mpath\u001b[38;5;241m.\u001b[39mdirname(file_list[\u001b[38;5;241m0\u001b[39m])\u001b[38;5;241m+\u001b[39m\u001b[38;5;124m'\u001b[39m\u001b[38;5;124m/\u001b[39m\u001b[38;5;124m'\u001b[39m\u001b[38;5;241m+\u001b[39msamplename\n\u001b[0;32m    226\u001b[0m \u001b[38;5;28;01mfor\u001b[39;00m i, file \u001b[38;5;129;01min\u001b[39;00m \u001b[38;5;28menumerate\u001b[39m(file_list):\n\u001b[1;32m--> 227\u001b[0m     \u001b[43mnxs_swing_HandV_integration\u001b[49m\u001b[43m(\u001b[49m\u001b[43mfile\u001b[49m\u001b[43m,\u001b[49m\u001b[43m \u001b[49m\u001b[43moutput_dir\u001b[49m\u001b[43m,\u001b[49m\u001b[43m \u001b[49m\u001b[43moffset\u001b[49m\u001b[43m,\u001b[49m\u001b[43m \u001b[49m\u001b[43msector_angle\u001b[49m\u001b[43m,\u001b[49m\u001b[43m \u001b[49m\u001b[43mmaskfile\u001b[49m\u001b[43m,\u001b[49m\u001b[43m \u001b[49m\u001b[43msave_data\u001b[49m\u001b[43m,\u001b[49m\u001b[43m \u001b[49m\u001b[43msave_positions\u001b[49m\u001b[43m,\u001b[49m\u001b[43m \u001b[49m\u001b[43msave_basler_image\u001b[49m\u001b[43m)\u001b[49m\n\u001b[0;32m    228\u001b[0m     \u001b[38;5;28mprint\u001b[39m(\u001b[38;5;124m'\u001b[39m\u001b[38;5;124mFile \u001b[39m\u001b[38;5;132;01m%d\u001b[39;00m\u001b[38;5;124m out of \u001b[39m\u001b[38;5;132;01m%d\u001b[39;00m\u001b[38;5;124m files in the directory \u001b[39m\u001b[38;5;132;01m%s\u001b[39;00m\u001b[38;5;124m'\u001b[39m \u001b[38;5;241m%\u001b[39m (i\u001b[38;5;241m+\u001b[39m\u001b[38;5;241m1\u001b[39m, \u001b[38;5;28mlen\u001b[39m(file_list), directory))\n\u001b[0;32m    229\u001b[0m     \u001b[38;5;28mprint\u001b[39m(os\u001b[38;5;241m.\u001b[39mpath\u001b[38;5;241m.\u001b[39mbasename(file))\n",
      "File \u001b[1;32mc:\\Users\\cayez\\Documents\\DONNEES SIMON\\LPCNO\\Synchrotron\\SOLSEIL_SWINGjuillet24\\notebooks\\v3\\h5_integrate.py:122\u001b[0m, in \u001b[0;36mnxs_swing_HandV_integration\u001b[1;34m(nxsfile, output_dir, offset, sector_angle, maskfile, save_data, save_positions, save_basler_image, save_params)\u001b[0m\n\u001b[0;32m    119\u001b[0m     cave_data_array\u001b[38;5;241m=\u001b[39mnp\u001b[38;5;241m.\u001b[39mzeros_like(data)\n\u001b[0;32m    120\u001b[0m     \u001b[38;5;28;01mfor\u001b[39;00m i \u001b[38;5;129;01min\u001b[39;00m \u001b[38;5;28mrange\u001b[39m(data\u001b[38;5;241m.\u001b[39mshape[\u001b[38;5;241m0\u001b[39m]):\n\u001b[0;32m    121\u001b[0m         \u001b[38;5;66;03m#cave_data_array[i,:,:] = caving(data[i,:,:],params,maskfile)\u001b[39;00m\n\u001b[1;32m--> 122\u001b[0m         cave_data_array[i] \u001b[38;5;241m=\u001b[39m \u001b[43mcaving\u001b[49m\u001b[43m(\u001b[49m\u001b[43mdata\u001b[49m\u001b[43m[\u001b[49m\u001b[43mi\u001b[49m\u001b[43m]\u001b[49m\u001b[43m,\u001b[49m\u001b[43mparams\u001b[49m\u001b[43m,\u001b[49m\u001b[43mmaskfile\u001b[49m\u001b[43m)\u001b[49m\n\u001b[0;32m    123\u001b[0m         np\u001b[38;5;241m.\u001b[39msave(os\u001b[38;5;241m.\u001b[39mpath\u001b[38;5;241m.\u001b[39mjoin(cave_data_dir,output_base\u001b[38;5;241m+\u001b[39m\u001b[38;5;124m'\u001b[39m\u001b[38;5;124m_cave_data.npy\u001b[39m\u001b[38;5;124m'\u001b[39m),(cave_data_array))\n\u001b[0;32m    124\u001b[0m \u001b[38;5;66;03m##########################\u001b[39;00m\n\u001b[0;32m    125\u001b[0m \n\u001b[0;32m    126\u001b[0m     \u001b[38;5;66;03m# Define the detector and azimuthal integrator\u001b[39;00m\n",
      "File \u001b[1;32mc:\\Users\\cayez\\Documents\\DONNEES SIMON\\LPCNO\\Synchrotron\\SOLSEIL_SWINGjuillet24\\notebooks\\v3\\h5_integrate.py:308\u001b[0m, in \u001b[0;36mcaving\u001b[1;34m(data, params, maskfile)\u001b[0m\n\u001b[0;32m    306\u001b[0m caving_mask_file \u001b[38;5;241m=\u001b[39m \u001b[38;5;124m'\u001b[39m\u001b[38;5;124mcaving_mask.edf\u001b[39m\u001b[38;5;124m'\u001b[39m\n\u001b[0;32m    307\u001b[0m edf_mask\u001b[38;5;241m=\u001b[39mfabio\u001b[38;5;241m.\u001b[39medfimage\u001b[38;5;241m.\u001b[39mEdfImage(header\u001b[38;5;241m=\u001b[39mheader,data\u001b[38;5;241m=\u001b[39mcaving_mask_data)\n\u001b[1;32m--> 308\u001b[0m \u001b[43medf_mask\u001b[49m\u001b[38;5;241;43m.\u001b[39;49m\u001b[43mwrite\u001b[49m\u001b[43m(\u001b[49m\u001b[43mcaving_mask_file\u001b[49m\u001b[43m)\u001b[49m\n\u001b[0;32m    310\u001b[0m \u001b[38;5;28;01mreturn\u001b[39;00m cave_data\n",
      "File \u001b[1;32mc:\\Users\\cayez\\Anaconda3\\envs\\ai_py311\\Lib\\site-packages\\fabio\\edfimage.py:1274\u001b[0m, in \u001b[0;36mEdfImage.write\u001b[1;34m(self, fname, force_type, fit2dMode)\u001b[0m\n\u001b[0;32m   1272\u001b[0m     [(frame\u001b[38;5;241m.\u001b[39mheader, frame\u001b[38;5;241m.\u001b[39mdata) \u001b[38;5;28;01mfor\u001b[39;00m frame \u001b[38;5;129;01min\u001b[39;00m \u001b[38;5;28mself\u001b[39m\u001b[38;5;241m.\u001b[39m_frames]\n\u001b[0;32m   1273\u001b[0m     \u001b[38;5;66;03m# this is thrown away\u001b[39;00m\n\u001b[1;32m-> 1274\u001b[0m \u001b[38;5;28;01mwith\u001b[39;00m \u001b[38;5;28;43mself\u001b[39;49m\u001b[38;5;241;43m.\u001b[39;49m\u001b[43m_open\u001b[49m\u001b[43m(\u001b[49m\u001b[43mfname\u001b[49m\u001b[43m,\u001b[49m\u001b[43m \u001b[49m\u001b[43mmode\u001b[49m\u001b[38;5;241;43m=\u001b[39;49m\u001b[38;5;124;43m\"\u001b[39;49m\u001b[38;5;124;43mwb\u001b[39;49m\u001b[38;5;124;43m\"\u001b[39;49m\u001b[43m)\u001b[49m \u001b[38;5;28;01mas\u001b[39;00m outfile:\n\u001b[0;32m   1275\u001b[0m     \u001b[38;5;28;01mfor\u001b[39;00m i, frame \u001b[38;5;129;01min\u001b[39;00m \u001b[38;5;28menumerate\u001b[39m(\u001b[38;5;28mself\u001b[39m\u001b[38;5;241m.\u001b[39m_frames):\n\u001b[0;32m   1276\u001b[0m         frame\u001b[38;5;241m.\u001b[39m_set_container(\u001b[38;5;28mself\u001b[39m, i)\n",
      "File \u001b[1;32mc:\\Users\\cayez\\Anaconda3\\envs\\ai_py311\\Lib\\site-packages\\fabio\\fabioimage.py:789\u001b[0m, in \u001b[0;36mFabioImage._open\u001b[1;34m(self, fname, mode)\u001b[0m\n\u001b[0;32m    779\u001b[0m     fileObject \u001b[38;5;241m=\u001b[39m \u001b[38;5;28mself\u001b[39m\u001b[38;5;241m.\u001b[39m_compressed_stream(fname,\n\u001b[0;32m    780\u001b[0m                                          fabioutils\u001b[38;5;241m.\u001b[39mCOMPRESSORS[\u001b[38;5;124m'\u001b[39m\u001b[38;5;124m.bz2\u001b[39m\u001b[38;5;124m'\u001b[39m],\n\u001b[0;32m    781\u001b[0m                                          fabioutils\u001b[38;5;241m.\u001b[39mBZ2File,\n\u001b[0;32m    782\u001b[0m                                          mode)\n\u001b[0;32m    783\u001b[0m \u001b[38;5;66;03m#\u001b[39;00m\n\u001b[0;32m    784\u001b[0m \u001b[38;5;66;03m# Here we return the file even though it may be bzipped or gzipped\u001b[39;00m\n\u001b[0;32m    785\u001b[0m \u001b[38;5;66;03m# but named incorrectly...\u001b[39;00m\n\u001b[0;32m    786\u001b[0m \u001b[38;5;66;03m#\u001b[39;00m\n\u001b[0;32m    787\u001b[0m \u001b[38;5;66;03m# FIXME - should we fix that or complain about the daft naming?\u001b[39;00m\n\u001b[0;32m    788\u001b[0m \u001b[38;5;28;01melse\u001b[39;00m:\n\u001b[1;32m--> 789\u001b[0m     fileObject \u001b[38;5;241m=\u001b[39m \u001b[43mfabioutils\u001b[49m\u001b[38;5;241;43m.\u001b[39;49m\u001b[43mFile\u001b[49m\u001b[43m(\u001b[49m\u001b[43mfname\u001b[49m\u001b[43m,\u001b[49m\u001b[43m \u001b[49m\u001b[43mmode\u001b[49m\u001b[43m)\u001b[49m\n\u001b[0;32m    790\u001b[0m \u001b[38;5;28;01mif\u001b[39;00m \u001b[38;5;124m\"\u001b[39m\u001b[38;5;124mname\u001b[39m\u001b[38;5;124m\"\u001b[39m \u001b[38;5;129;01mnot\u001b[39;00m \u001b[38;5;129;01min\u001b[39;00m \u001b[38;5;28mdir\u001b[39m(fileObject):\n\u001b[0;32m    791\u001b[0m     fileObject\u001b[38;5;241m.\u001b[39mname \u001b[38;5;241m=\u001b[39m fname\n",
      "File \u001b[1;32mc:\\Users\\cayez\\Anaconda3\\envs\\ai_py311\\Lib\\site-packages\\fabio\\fabioutils.py:445\u001b[0m, in \u001b[0;36mFile.__init__\u001b[1;34m(self, name, mode, temporary)\u001b[0m\n\u001b[0;32m    424\u001b[0m \u001b[38;5;28;01mdef\u001b[39;00m \u001b[38;5;21m__init__\u001b[39m(\u001b[38;5;28mself\u001b[39m, name, mode\u001b[38;5;241m=\u001b[39m\u001b[38;5;124m\"\u001b[39m\u001b[38;5;124mrb\u001b[39m\u001b[38;5;124m\"\u001b[39m, temporary\u001b[38;5;241m=\u001b[39m\u001b[38;5;28;01mFalse\u001b[39;00m):\n\u001b[0;32m    425\u001b[0m \u001b[38;5;250m    \u001b[39m\u001b[38;5;124;03m\"\"\"file(name[, mode[, buffering]]) -> file object\u001b[39;00m\n\u001b[0;32m    426\u001b[0m \n\u001b[0;32m    427\u001b[0m \u001b[38;5;124;03m    Open a file.  The mode can be 'r', 'w' or 'a' for reading (default),\u001b[39;00m\n\u001b[1;32m   (...)\u001b[0m\n\u001b[0;32m    443\u001b[0m \u001b[38;5;124;03m    :param temporary: if True, destroy file at close.\u001b[39;00m\n\u001b[0;32m    444\u001b[0m \u001b[38;5;124;03m    \"\"\"\u001b[39;00m\n\u001b[1;32m--> 445\u001b[0m     \u001b[43mFileIO\u001b[49m\u001b[38;5;241;43m.\u001b[39;49m\u001b[38;5;21;43m__init__\u001b[39;49m\u001b[43m(\u001b[49m\u001b[38;5;28;43mself\u001b[39;49m\u001b[43m,\u001b[49m\u001b[43m \u001b[49m\u001b[43mname\u001b[49m\u001b[43m,\u001b[49m\u001b[43m \u001b[49m\u001b[43mmode\u001b[49m\u001b[43m)\u001b[49m\n\u001b[0;32m    446\u001b[0m     \u001b[38;5;28mself\u001b[39m\u001b[38;5;241m.\u001b[39mlock \u001b[38;5;241m=\u001b[39m threading\u001b[38;5;241m.\u001b[39mSemaphore()\n\u001b[0;32m    447\u001b[0m     \u001b[38;5;28mself\u001b[39m\u001b[38;5;241m.\u001b[39m__size \u001b[38;5;241m=\u001b[39m \u001b[38;5;28;01mNone\u001b[39;00m\n",
      "\u001b[1;31mKeyboardInterrupt\u001b[0m: "
     ]
    }
   ],
   "source": [
    "dir=integ.extract_h5_from_dir(data_dir,offset,sector_angle,mask,save_data=save_data,\n",
    "                              save_positions = save_positions, save_basler_image = save_basler_image)\n",
    "print('Extracted Numpy arrays are stored in ',dir)"
   ]
  },
  {
   "cell_type": "code",
   "execution_count": null,
   "metadata": {},
   "outputs": [],
   "source": [
    "#dir='C:/Users/cayez/Documents/DONNEES SIMON/LPCNO/Synchrotron/SOLSEIL_SWINGjuillet24/notebooks/images_test/images_run_juillet_sample/Co13_2_221'"
   ]
  },
  {
   "cell_type": "markdown",
   "metadata": {},
   "source": [
    "## Create Numpy files list of numpy in selected folder"
   ]
  },
  {
   "cell_type": "code",
   "execution_count": null,
   "metadata": {},
   "outputs": [],
   "source": [
    "#load and sort diffusion images of folder\n",
    "image_file_list=glob.glob(dir+'/image/'+'*.npy')\n",
    "image_file_list=sorted(image_file_list,key=integ.extract_number)\n",
    "\n",
    "#load and sort positions images of folder\n",
    "positions_file_list=glob.glob(dir+'/positions/'+'*.npy')\n",
    "positions_file_list=sorted(positions_file_list,key=integ.extract_number)\n",
    "\n",
    "#load and sort integration data of diffusion images\n",
    "# intensities contains qh, qv and q_iso\n",
    "intensities_file_list=glob.glob(dir+'/integration/'+'*_integrations.npy')\n",
    "intensities_file_list=sorted(intensities_file_list,key=integ.extract_number)\n",
    "q_file=glob.glob(dir+'/integration/'+'*_q.npy')[0]\n",
    "\n",
    "#load and sort basler images of folder\n",
    "basler_image_filelist=glob.glob(dir+'/basler_image/'+'*.npy')\n",
    "basler_image_filelist=sorted(basler_image_filelist,key=integ.extract_number)\n",
    "basler_image_file=basler_image_filelist[0]\n",
    "\n",
    "#load and sort integration map images of folder\n",
    "qmap_file=glob.glob(dir+'/integration/'+'*_qmap.npy')[0]\n",
    "chimap_file = glob.glob(dir+'/integration/'+'*_chimap.npy')[0]\n",
    "imap_file_list=glob.glob(dir+'/integration/'+'*_imap.npy')\n",
    "imap_file_list=sorted(imap_file_list,key=integ.extract_number)\n",
    "\n",
    "# # Load parameters dictionnary (edf header format)\n",
    "# params=glob.glob(dir+'/params/'+'*_params.npy')[0]\n",
    "\n",
    "# Load Cave image\n",
    "cave_image_file_list=glob.glob(dir+'/cave_image/'+'*.npy')\n",
    "cave_image_file_list=sorted(cave_image_file_list,key=integ.extract_number)\n"
   ]
  },
  {
   "cell_type": "markdown",
   "metadata": {},
   "source": [
    "## Data visualization"
   ]
  },
  {
   "cell_type": "markdown",
   "metadata": {},
   "source": [
    "Set Origin position on basler image"
   ]
  },
  {
   "cell_type": "code",
   "execution_count": null,
   "metadata": {},
   "outputs": [],
   "source": [
    "#expected values: X0=186, Z0=309\n",
    "X0 = 186\n",
    "Z0 = 309\n",
    "\n",
    "crop = 1024"
   ]
  },
  {
   "cell_type": "markdown",
   "metadata": {},
   "source": [
    "and check..."
   ]
  },
  {
   "cell_type": "code",
   "execution_count": null,
   "metadata": {},
   "outputs": [],
   "source": [
    "basler_image=np.load(basler_image_file)\n",
    "fig,ax = plt.subplots()\n",
    "ax.imshow(basler_image[0:crop,0:crop], cmap = 'gray')\n",
    "ax.scatter(X0,Z0, s = 2000, marker = '+', color = 'r', linewidths=2)#, facecolor = None)"
   ]
  },
  {
   "cell_type": "markdown",
   "metadata": {},
   "source": [
    "## Load numpy arrays from file list"
   ]
  },
  {
   "cell_type": "code",
   "execution_count": null,
   "metadata": {},
   "outputs": [],
   "source": [
    "# Load diffusion images\n",
    "image = integ.read_numpy_from_list(image_file_list)\n",
    "\n",
    "# load positions and determine position grid\n",
    "positions=integ.read_numpy_from_list(positions_file_list)\n",
    "x=positions[:,:,0]\n",
    "z=positions[:,:,1]\n",
    "nbre_lignes=positions.shape[0]\n",
    "nbre_colonnes=positions.shape[1]\n",
    "print('nbre of lines:',nbre_lignes,', nbre of columns:',nbre_colonnes)\n",
    "\n",
    "#load integration data\n",
    "integrations= integ.read_numpy_from_list(intensities_file_list)\n",
    "q_array=np.load(q_file)\n",
    "qh=q_array[0]\n",
    "qv=q_array[1]\n",
    "q_iso=q_array[2]\n",
    "\n",
    "# load integration maps\n",
    "qmap=np.load(qmap_file)\n",
    "chimap=np.load(chimap_file)\n",
    "imaps=integ.read_numpy_from_list(imap_file_list)\n",
    "\n",
    "# Load cave image\n",
    "cave_image = integ.read_numpy_from_list(cave_image_file_list)\n"
   ]
  },
  {
   "cell_type": "markdown",
   "metadata": {},
   "source": [
    "## Create and check position grid"
   ]
  },
  {
   "cell_type": "code",
   "execution_count": null,
   "metadata": {},
   "outputs": [],
   "source": [
    "# basler_image=np.load(basler_image_file)\n",
    "fig,ax=plt.subplots()\n",
    "ax.imshow(basler_image[0:crop,0:crop],cmap='gray')\n",
    "\n",
    "\n",
    "#calculate deta x and delta z and Convert in µm\n",
    "step_x = 1000*(x[0,1]-x[0,0])\n",
    "step_z= 1000*(z[1,0]-z[0,0])\n",
    "\n",
    "rect_coordinates = np.array([X0,Z0])\n",
    "\n",
    "positions_pixels = np.empty_like(positions)\n",
    "for k in range (nbre_colonnes):\n",
    "    for l in range (nbre_lignes):\n",
    "        x_pix = rect_coordinates[0]+k*(step_x/3.73)\n",
    "        z_pix = rect_coordinates[1]+l*(step_z/3.67)\n",
    "        positions_pixels[l,k] = np.array([x_pix,z_pix])\n",
    "x_pixels_ok=positions_pixels[:,:,0]\n",
    "z_pixels_ok=positions_pixels[:,:,1] \n",
    "\n",
    "ax.scatter(positions_pixels[:,:,0],positions_pixels[:,:,1],marker='.',s=5,color = 'r')\n"
   ]
  },
  {
   "cell_type": "markdown",
   "metadata": {},
   "source": [
    "## Plot all data in subplots and save plots"
   ]
  },
  {
   "cell_type": "code",
   "execution_count": null,
   "metadata": {},
   "outputs": [],
   "source": [
    "print(dir)"
   ]
  },
  {
   "cell_type": "code",
   "execution_count": null,
   "metadata": {},
   "outputs": [],
   "source": [
    "samplename=data_dir.split('/')[-1]\n",
    "\n",
    "plotdir=dir+'/plots'\n",
    "os.makedirs(plotdir,exist_ok=True)\n",
    "plt.ioff()\n",
    "k=1\n",
    "nbre_fichiers=nbre_colonnes*nbre_lignes\n",
    "for i in range (nbre_lignes):\n",
    "    for j in range(nbre_colonnes):\n",
    "        fig,ax=plt.subplots(2,2,figsize=(10,10))\n",
    "        \n",
    "        ax[0,0].imshow(basler_image[0:crop,0:crop],cmap='gray')\n",
    "        ax[0,0].scatter(x_pixels_ok,z_pixels_ok,s=2,marker='.',color='y')\n",
    "        ax[0,0].scatter(x_pixels_ok[i][j],z_pixels_ok[i][j],s=15,marker='o',color='r')\n",
    "\n",
    "        ax[0,1].imshow(np.log1p(cave_image[i][j]),cmap='jet')\n",
    "\n",
    "        ax[1,0].loglog(qh,integrations[i,j,0,:],label='h')\n",
    "        #ax.loglog(qh,integrations[0][0][0])\n",
    "        ax[1,0].loglog(qv,integrations[i,j,1,:],label='v')\n",
    "        ax[1,0].loglog(q_iso,integrations[i,j,2,:],label='iso')\n",
    "        ax[1,0].legend()\n",
    "        fig.suptitle(samplename+', x=%.2f'%x[i,j]+', z=%.2f'%z[i,j])\n",
    "        figname=plotdir+'/plot_line%02d'%i+'_column%02d'%j+'.png'\n",
    "\n",
    "        ax[1,1].set_xscale('log')\n",
    "        ax[1,1].set_xlabel('q 1/A')\n",
    "        ax[1,1].set_ylabel('Azimuhtal angle (°)')\n",
    "        cax=ax[1,1].imshow(np.log1p(imaps[i][j]),origin=\"lower\",extent=[qmap.min(),qmap.max(),chimap.min(),chimap.max()],aspect=\"auto\",cmap='jet')\n",
    "        \n",
    "            \n",
    "        plt.tight_layout()\n",
    "        plt.savefig(figname)\n",
    "        print('File %d'%k, ' out of %d '%nbre_fichiers)\n",
    "        clear_output(wait=True)\n",
    "        k+=1\n",
    "      \n",
    "        \n"
   ]
  },
  {
   "cell_type": "markdown",
   "metadata": {},
   "source": [
    "## Convert to video"
   ]
  },
  {
   "cell_type": "code",
   "execution_count": null,
   "metadata": {},
   "outputs": [],
   "source": [
    "print(dir)\n",
    "#Specify the path to your images\n",
    "image_folder = plotdir\n",
    "plotfile_list=[]\n",
    "for i in range(nbre_lignes):\n",
    "    for j in range (nbre_colonnes):\n",
    "        plotfile_list.append('plot_line%02d'%i+'_column%02d'%j+'.png')\n",
    "\n",
    "image_files = [f'{image_folder}/{file}' for file in plotfile_list] \n",
    "\n",
    "# Create a video clip from the images\n",
    "clip = ImageSequenceClip(image_files, fps=2)  # Set the desired frames per second (fps)\n",
    "\n",
    "# Write the video file\n",
    "clip.write_videofile(dir+'/'+f'{samplename}_video.mp4', codec='libx264')  # Output video file"
   ]
  },
  {
   "cell_type": "code",
   "execution_count": null,
   "metadata": {},
   "outputs": [],
   "source": []
  }
 ],
 "metadata": {
  "kernelspec": {
   "display_name": "Python 3 (ipykernel)",
   "language": "python",
   "name": "python3"
  },
  "language_info": {
   "codemirror_mode": {
    "name": "ipython",
    "version": 3
   },
   "file_extension": ".py",
   "mimetype": "text/x-python",
   "name": "python",
   "nbconvert_exporter": "python",
   "pygments_lexer": "ipython3",
   "version": "3.11.9"
  }
 },
 "nbformat": 4,
 "nbformat_minor": 4
}
