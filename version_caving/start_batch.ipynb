{
 "cells": [
  {
   "cell_type": "markdown",
   "metadata": {},
   "source": [
    "## Start Batch"
   ]
  },
  {
   "cell_type": "code",
   "execution_count": 1,
   "metadata": {},
   "outputs": [],
   "source": [
    "import batch_video as bv\n",
    "import glob\n",
    "import os"
   ]
  },
  {
   "cell_type": "code",
   "execution_count": 2,
   "metadata": {},
   "outputs": [
    {
     "name": "stdout",
     "output_type": "stream",
     "text": [
      "Moviepy - Building video C:/Users/cayez/Documents/DONNEES SIMON/LPCNO/Synchrotron/SOLSEIL_SWINGjuillet24/notebooks/images_test/images_run_juillet_sample\\test/Co13_2_221/Co13_2_221_video.mp4.\n",
      "Moviepy - Writing video C:/Users/cayez/Documents/DONNEES SIMON/LPCNO/Synchrotron/SOLSEIL_SWINGjuillet24/notebooks/images_test/images_run_juillet_sample\\test/Co13_2_221/Co13_2_221_video.mp4\n",
      "\n"
     ]
    },
    {
     "name": "stderr",
     "output_type": "stream",
     "text": [
      "                                                            \r"
     ]
    },
    {
     "name": "stdout",
     "output_type": "stream",
     "text": [
      "Moviepy - Done !\n",
      "Moviepy - video ready C:/Users/cayez/Documents/DONNEES SIMON/LPCNO/Synchrotron/SOLSEIL_SWINGjuillet24/notebooks/images_test/images_run_juillet_sample\\test/Co13_2_221/Co13_2_221_video.mp4\n"
     ]
    }
   ],
   "source": [
    "\n",
    "data_folder =  'E:/Data_Soleil/lacroix/test_batch'\n",
    "mask = 'C:/Users/cayez/Documents/DONNEES SIMON/LPCNO/Synchrotron/SOLSEIL_SWINGjuillet24/notebooks/images/mask.edf'\n",
    "\n",
    "\n",
    "# Get the list of all directories in the parent directory\n",
    "directories = [dir for dir in glob.glob(os.path.join(data_folder, '*/')) if os.path.isdir(dir)]\n",
    "fichier = open(data_folder+'/log_file.txt', 'w')\n",
    "for directory in directories:\n",
    "    try:\n",
    "        bv.batch(directory, mask)\n",
    "    except:\n",
    "        fichier.write('failed: %s '%directory+'\\n')\n",
    "    print('Finished:', directory)\n",
    "\n",
    "   \n",
    "fichier.close()\n"
   ]
  }
 ],
 "metadata": {
  "kernelspec": {
   "display_name": "ai_py311",
   "language": "python",
   "name": "python3"
  },
  "language_info": {
   "codemirror_mode": {
    "name": "ipython",
    "version": 3
   },
   "file_extension": ".py",
   "mimetype": "text/x-python",
   "name": "python",
   "nbconvert_exporter": "python",
   "pygments_lexer": "ipython3",
   "version": "3.11.9"
  }
 },
 "nbformat": 4,
 "nbformat_minor": 2
}
