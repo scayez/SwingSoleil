{
 "cells": [
  {
   "cell_type": "markdown",
   "metadata": {},
   "source": [
    "# <center><u>RUN SWING SOLEIL octobre24</u></center>"
   ]
  },
  {
   "cell_type": "markdown",
   "metadata": {},
   "source": [
    "Ce notebook extrait les informations des fichiers h5 contenus dans un dossier. \n",
    "- Extrait dans un pandas dataframe le nom du fichier, sa transmission, son type, le sample name est utilisé pour determiner le \n",
    "canal et la position dans le cas où il est au format S_C_X_SF_X_P_X (S=Sample, R= ref, C= n°channel du capillaire,P=n°position dans le capillaire ,\n",
    "SF= Stop flow LF=LostFlow )\n",
    "- Associe un echantillon à sa référence dans un pandas datadrame suivant si le sample name commence par S ou F (asso)\n",
    "- Calcule les integrations corrigées à partir de l'association sample / ref\n",
    "- crée une vidèo à partir de l'ensemble des images"
   ]
  },
  {
   "cell_type": "code",
   "execution_count": 1,
   "metadata": {},
   "outputs": [],
   "source": [
    "import pandas as pd\n",
    "from matplotlib import pyplot as plt\n",
    "import numpy as np\n",
    "import glob\n",
    "import os\n",
    "import SwingTools as st\n",
    "import VideoSwingTools as vst"
   ]
  },
  {
   "cell_type": "markdown",
   "metadata": {},
   "source": [
    "- Dossier de travail"
   ]
  },
  {
   "cell_type": "code",
   "execution_count": null,
   "metadata": {},
   "outputs": [],
   "source": [
    "folder = 'C:/Users/cayez/Documents/DONNEES_SIMON/LPCNO/Synchrotron/SoleilSWING_octobre24/Notebook_traitement/kin21_light'\n",
    "\n",
    "# kin21, 37 et 23 et 24 si\n",
    "#############  FAIT: \n",
    "#folder = 'D:/SWING/to_do/kin_21_au_500tes'\n",
    "#folder = 'D:/SWING/to_do/kin_37_au_62tes_s'#\n",
    "#folder = 'D:/SWING/to_do/kin_23_au_125tes_rt'\n",
    "#folder = 'D:/SWING/to_do/kin_23_au_125tes_rt'\n",
    "#############  A Faire: \n",
    "#folder = 'D:/SWING/to_do/kin_21_au_500tes'\n",
    "############\n",
    "#folder = 'D:/SWING/to_do/kin_37_au_62tes_s'\n",
    "# folder = 'C:/Users/cayez/Documents/DONNEES_SIMON/LPCNO/Synchrotron/SoleilSWING_octobre24/Notebook_traitement/dryed_cappilary/'\n",
    "# folder = 'D:/swing/kin_11_ag_55deg'\n",
    "# folder = 'D:/SWING/to_do/kin_23_au_125tes_rt'\n",
    "#folder = 'D:/SWING/to_do/kin_37_au_62tes_s'\n",
    "#folder = 'C:/Users/cayez/Documents/DONNEES_SIMON/LPCNO/Synchrotron/SoleilSWING_octobre24/Notebook_traitement/dryed_cappilary/'\n",
    "#folder = 'T:/LPCNO/NCO/Manips/DATA_SAXS/2024_10_11_SWING_Rohan/20240444/2024/Run4/rodriguez_manipOK/kin_21_au_500tes'\n",
    "#folder = 'T:/LPCNO/NCO/Manips/DATA_SAXS/2024_10_11_SWING_Rohan/20240444/2024/Run4/rodriguez_manipOK/kin_24_au_250tes_rt'\n",
    "#folder = 'D:/SWING/to_do/kin_44_ag_80_tes480_s'\n",
    "#folder = 'C:/Users/cayez/Documents/DONNEES_SIMON/LPCNO/Synchrotron/SoleilSWING_octobre24/Notebook_traitement/kin21_light'\n",
    "#folder = 'D:/SWING/to_do/kin_6'\n",
    "\n"
   ]
  },
  {
   "cell_type": "markdown",
   "metadata": {},
   "source": [
    "- Extraction des dataframe et csv. \n",
    "    - df pour l'extraction des données de tous les fichiers \n",
    "    - asso pour les associations fichiers de mesure et de référence"
   ]
  },
  {
   "cell_type": "code",
   "execution_count": 3,
   "metadata": {},
   "outputs": [
    {
     "name": "stdout",
     "output_type": "stream",
     "text": [
      "2024-10-12 11:21:04\n"
     ]
    }
   ],
   "source": [
    "df, asso = st.create_info_file(folder)\n",
    "#si on modifie le dataframe manuellement:\n",
    "#asso = pd.read_csv(folder+'_samples_ref_associated.csv')"
   ]
  },
  {
   "cell_type": "code",
   "execution_count": 4,
   "metadata": {},
   "outputs": [
    {
     "data": {
      "text/html": [
       "<div>\n",
       "<style scoped>\n",
       "    .dataframe tbody tr th:only-of-type {\n",
       "        vertical-align: middle;\n",
       "    }\n",
       "\n",
       "    .dataframe tbody tr th {\n",
       "        vertical-align: top;\n",
       "    }\n",
       "\n",
       "    .dataframe thead th {\n",
       "        text-align: right;\n",
       "    }\n",
       "</style>\n",
       "<table border=\"1\" class=\"dataframe\">\n",
       "  <thead>\n",
       "    <tr style=\"text-align: right;\">\n",
       "      <th></th>\n",
       "      <th>File_sample</th>\n",
       "      <th>Sample name_sample</th>\n",
       "      <th>Mean Transmission_sample</th>\n",
       "      <th>Type_sample</th>\n",
       "      <th>Channel</th>\n",
       "      <th>Position</th>\n",
       "      <th>Time_sample</th>\n",
       "      <th>Flow_sample</th>\n",
       "      <th>File_ref</th>\n",
       "      <th>Sample name_ref</th>\n",
       "      <th>Mean Transmission_ref</th>\n",
       "      <th>Type_ref</th>\n",
       "      <th>Time_ref</th>\n",
       "      <th>Flow_ref</th>\n",
       "      <th>Time_ref_adjusted</th>\n",
       "      <th>File num.</th>\n",
       "    </tr>\n",
       "  </thead>\n",
       "  <tbody>\n",
       "    <tr>\n",
       "      <th>0</th>\n",
       "      <td>rodriguez_04893_2024-10-12_11-48-45.h5</td>\n",
       "      <td>S_C_1_P_1</td>\n",
       "      <td>0.633914</td>\n",
       "      <td>sample</td>\n",
       "      <td>1</td>\n",
       "      <td>1</td>\n",
       "      <td>2024-10-12 11:48:45</td>\n",
       "      <td>unknown</td>\n",
       "      <td>rodriguez_04823_2024-10-12_11-21-04.h5</td>\n",
       "      <td>R_C_1_P_1</td>\n",
       "      <td>0.774261</td>\n",
       "      <td>ref</td>\n",
       "      <td>2024-10-12 11:21:04</td>\n",
       "      <td>unknown</td>\n",
       "      <td>00:00:00</td>\n",
       "      <td>04823</td>\n",
       "    </tr>\n",
       "    <tr>\n",
       "      <th>1</th>\n",
       "      <td>rodriguez_04896_2024-10-12_11-49-15.h5</td>\n",
       "      <td>S_C_1_P_4</td>\n",
       "      <td>0.629522</td>\n",
       "      <td>sample</td>\n",
       "      <td>1</td>\n",
       "      <td>4</td>\n",
       "      <td>2024-10-12 11:49:15</td>\n",
       "      <td>unknown</td>\n",
       "      <td>rodriguez_04826_2024-10-12_11-21-37.h5</td>\n",
       "      <td>R_C_1_P_4</td>\n",
       "      <td>0.772646</td>\n",
       "      <td>ref</td>\n",
       "      <td>2024-10-12 11:21:37</td>\n",
       "      <td>unknown</td>\n",
       "      <td>00:00:33</td>\n",
       "      <td>04826</td>\n",
       "    </tr>\n",
       "    <tr>\n",
       "      <th>2</th>\n",
       "      <td>rodriguez_04931_2024-10-12_11-55-10.h5</td>\n",
       "      <td>S_C_2_P_4</td>\n",
       "      <td>0.616391</td>\n",
       "      <td>sample</td>\n",
       "      <td>2</td>\n",
       "      <td>4</td>\n",
       "      <td>2024-10-12 11:55:10</td>\n",
       "      <td>unknown</td>\n",
       "      <td>rodriguez_04861_2024-10-12_11-27-30.h5</td>\n",
       "      <td>R_C_2_P_4</td>\n",
       "      <td>0.766370</td>\n",
       "      <td>ref</td>\n",
       "      <td>2024-10-12 11:27:30</td>\n",
       "      <td>unknown</td>\n",
       "      <td>00:06:26</td>\n",
       "      <td>04861</td>\n",
       "    </tr>\n",
       "    <tr>\n",
       "      <th>3</th>\n",
       "      <td>rodriguez_04962_2024-10-12_12-00-21.h5</td>\n",
       "      <td>S_C_2_P_35</td>\n",
       "      <td>0.611637</td>\n",
       "      <td>sample</td>\n",
       "      <td>2</td>\n",
       "      <td>35</td>\n",
       "      <td>2024-10-12 12:00:21</td>\n",
       "      <td>unknown</td>\n",
       "      <td>rodriguez_04892_2024-10-12_11-32-41.h5</td>\n",
       "      <td>R_C_2_P_35</td>\n",
       "      <td>0.765898</td>\n",
       "      <td>ref</td>\n",
       "      <td>2024-10-12 11:32:41</td>\n",
       "      <td>unknown</td>\n",
       "      <td>00:11:37</td>\n",
       "      <td>04892</td>\n",
       "    </tr>\n",
       "  </tbody>\n",
       "</table>\n",
       "</div>"
      ],
      "text/plain": [
       "                              File_sample Sample name_sample  \\\n",
       "0  rodriguez_04893_2024-10-12_11-48-45.h5          S_C_1_P_1   \n",
       "1  rodriguez_04896_2024-10-12_11-49-15.h5          S_C_1_P_4   \n",
       "2  rodriguez_04931_2024-10-12_11-55-10.h5          S_C_2_P_4   \n",
       "3  rodriguez_04962_2024-10-12_12-00-21.h5         S_C_2_P_35   \n",
       "\n",
       "   Mean Transmission_sample Type_sample Channel Position          Time_sample  \\\n",
       "0                  0.633914      sample       1        1  2024-10-12 11:48:45   \n",
       "1                  0.629522      sample       1        4  2024-10-12 11:49:15   \n",
       "2                  0.616391      sample       2        4  2024-10-12 11:55:10   \n",
       "3                  0.611637      sample       2       35  2024-10-12 12:00:21   \n",
       "\n",
       "  Flow_sample                                File_ref Sample name_ref  \\\n",
       "0     unknown  rodriguez_04823_2024-10-12_11-21-04.h5       R_C_1_P_1   \n",
       "1     unknown  rodriguez_04826_2024-10-12_11-21-37.h5       R_C_1_P_4   \n",
       "2     unknown  rodriguez_04861_2024-10-12_11-27-30.h5       R_C_2_P_4   \n",
       "3     unknown  rodriguez_04892_2024-10-12_11-32-41.h5      R_C_2_P_35   \n",
       "\n",
       "   Mean Transmission_ref Type_ref            Time_ref Flow_ref  \\\n",
       "0               0.774261      ref 2024-10-12 11:21:04  unknown   \n",
       "1               0.772646      ref 2024-10-12 11:21:37  unknown   \n",
       "2               0.766370      ref 2024-10-12 11:27:30  unknown   \n",
       "3               0.765898      ref 2024-10-12 11:32:41  unknown   \n",
       "\n",
       "  Time_ref_adjusted File num.  \n",
       "0          00:00:00     04823  \n",
       "1          00:00:33     04826  \n",
       "2          00:06:26     04861  \n",
       "3          00:11:37     04892  "
      ]
     },
     "execution_count": 4,
     "metadata": {},
     "output_type": "execute_result"
    }
   ],
   "source": [
    "asso.head()"
   ]
  },
  {
   "cell_type": "code",
   "execution_count": 5,
   "metadata": {},
   "outputs": [
    {
     "data": {
      "text/html": [
       "<div>\n",
       "<style scoped>\n",
       "    .dataframe tbody tr th:only-of-type {\n",
       "        vertical-align: middle;\n",
       "    }\n",
       "\n",
       "    .dataframe tbody tr th {\n",
       "        vertical-align: top;\n",
       "    }\n",
       "\n",
       "    .dataframe thead th {\n",
       "        text-align: right;\n",
       "    }\n",
       "</style>\n",
       "<table border=\"1\" class=\"dataframe\">\n",
       "  <thead>\n",
       "    <tr style=\"text-align: right;\">\n",
       "      <th></th>\n",
       "      <th>File</th>\n",
       "      <th>Sample name</th>\n",
       "      <th>Mean Transmission</th>\n",
       "      <th>Type</th>\n",
       "      <th>Channel</th>\n",
       "      <th>Position</th>\n",
       "      <th>Time</th>\n",
       "      <th>Flow</th>\n",
       "    </tr>\n",
       "  </thead>\n",
       "  <tbody>\n",
       "    <tr>\n",
       "      <th>0</th>\n",
       "      <td>rodriguez_04823_2024-10-12_11-21-04.h5</td>\n",
       "      <td>R_C_1_P_1</td>\n",
       "      <td>0.774261</td>\n",
       "      <td>ref</td>\n",
       "      <td>1</td>\n",
       "      <td>1</td>\n",
       "      <td>2024-10-12 11:21:04</td>\n",
       "      <td>unknown</td>\n",
       "    </tr>\n",
       "    <tr>\n",
       "      <th>1</th>\n",
       "      <td>rodriguez_04826_2024-10-12_11-21-37.h5</td>\n",
       "      <td>R_C_1_P_4</td>\n",
       "      <td>0.772646</td>\n",
       "      <td>ref</td>\n",
       "      <td>1</td>\n",
       "      <td>4</td>\n",
       "      <td>2024-10-12 11:21:37</td>\n",
       "      <td>unknown</td>\n",
       "    </tr>\n",
       "    <tr>\n",
       "      <th>2</th>\n",
       "      <td>rodriguez_04861_2024-10-12_11-27-30.h5</td>\n",
       "      <td>R_C_2_P_4</td>\n",
       "      <td>0.766370</td>\n",
       "      <td>ref</td>\n",
       "      <td>2</td>\n",
       "      <td>4</td>\n",
       "      <td>2024-10-12 11:27:30</td>\n",
       "      <td>unknown</td>\n",
       "    </tr>\n",
       "    <tr>\n",
       "      <th>3</th>\n",
       "      <td>rodriguez_04892_2024-10-12_11-32-41.h5</td>\n",
       "      <td>R_C_2_P_35</td>\n",
       "      <td>0.765898</td>\n",
       "      <td>ref</td>\n",
       "      <td>2</td>\n",
       "      <td>35</td>\n",
       "      <td>2024-10-12 11:32:41</td>\n",
       "      <td>unknown</td>\n",
       "    </tr>\n",
       "    <tr>\n",
       "      <th>4</th>\n",
       "      <td>rodriguez_04893_2024-10-12_11-48-45.h5</td>\n",
       "      <td>S_C_1_P_1</td>\n",
       "      <td>0.633914</td>\n",
       "      <td>sample</td>\n",
       "      <td>1</td>\n",
       "      <td>1</td>\n",
       "      <td>2024-10-12 11:48:45</td>\n",
       "      <td>unknown</td>\n",
       "    </tr>\n",
       "  </tbody>\n",
       "</table>\n",
       "</div>"
      ],
      "text/plain": [
       "                                     File Sample name  Mean Transmission  \\\n",
       "0  rodriguez_04823_2024-10-12_11-21-04.h5   R_C_1_P_1           0.774261   \n",
       "1  rodriguez_04826_2024-10-12_11-21-37.h5   R_C_1_P_4           0.772646   \n",
       "2  rodriguez_04861_2024-10-12_11-27-30.h5   R_C_2_P_4           0.766370   \n",
       "3  rodriguez_04892_2024-10-12_11-32-41.h5  R_C_2_P_35           0.765898   \n",
       "4  rodriguez_04893_2024-10-12_11-48-45.h5   S_C_1_P_1           0.633914   \n",
       "\n",
       "     Type Channel Position                 Time     Flow  \n",
       "0     ref       1        1  2024-10-12 11:21:04  unknown  \n",
       "1     ref       1        4  2024-10-12 11:21:37  unknown  \n",
       "2     ref       2        4  2024-10-12 11:27:30  unknown  \n",
       "3     ref       2       35  2024-10-12 11:32:41  unknown  \n",
       "4  sample       1        1  2024-10-12 11:48:45  unknown  "
      ]
     },
     "execution_count": 5,
     "metadata": {},
     "output_type": "execute_result"
    }
   ],
   "source": [
    "df.head()"
   ]
  },
  {
   "cell_type": "code",
   "execution_count": 6,
   "metadata": {},
   "outputs": [
    {
     "name": "stdout",
     "output_type": "stream",
     "text": [
      "10\n",
      "4\n"
     ]
    }
   ],
   "source": [
    "print(len(df))\n",
    "print(len(asso))"
   ]
  },
  {
   "cell_type": "markdown",
   "metadata": {},
   "source": [
    "- Calcul des corrections d'intensité des integrations et sauvegarde des fichiers correspondant"
   ]
  },
  {
   "cell_type": "code",
   "execution_count": 7,
   "metadata": {},
   "outputs": [
    {
     "name": "stdout",
     "output_type": "stream",
     "text": [
      "C:/Users/cayez/Documents/DONNEES_SIMON/LPCNO/Synchrotron/SoleilSWING_octobre24/Notebook_traitement/kin21_light\\S_C_2_P_35_04962\\positions/@pos_@S_C_2_P_35@04962.png\n",
      "File: 4 on 4 \n"
     ]
    }
   ],
   "source": [
    "#maskfile = 'mask.edf'\n",
    "maskfile = 'macro_mask/mask_waxs_eiger_ruiz_oct24.edf'\n",
    "# coef = 0.0181 \n",
    "#coef =0.0308\n",
    "coef = 1 \n",
    "st.integration_correction(folder,asso,maskfile,coef)"
   ]
  },
  {
   "cell_type": "markdown",
   "metadata": {},
   "source": [
    "- récupération des fichiers images dans les dossier de chaque échantillon"
   ]
  },
  {
   "cell_type": "code",
   "execution_count": 8,
   "metadata": {},
   "outputs": [],
   "source": [
    "vst.copy_png_files(folder)"
   ]
  },
  {
   "cell_type": "markdown",
   "metadata": {},
   "source": [
    "- Création de grilles de 4 images avec eiger, basler, integration et position"
   ]
  },
  {
   "cell_type": "code",
   "execution_count": 9,
   "metadata": {},
   "outputs": [
    {
     "name": "stdout",
     "output_type": "stream",
     "text": [
      "{'S_C_1_P_1': {'basler': [{'file_path': 'C:/Users/cayez/Documents/DONNEES_SIMON/LPCNO/Synchrotron/SoleilSWING_octobre24/Notebook_traitement/kin21_light\\\\copied_png_files\\\\@basler@S_C_1_P_1@04893.png', 'file_num': '04893'}], 'eiger': [{'file_path': 'C:/Users/cayez/Documents/DONNEES_SIMON/LPCNO/Synchrotron/SoleilSWING_octobre24/Notebook_traitement/kin21_light\\\\copied_png_files\\\\@eiger@S_C_1_P_1@04893.png', 'file_num': '04893'}], 'corr_integration_': [{'file_path': 'C:/Users/cayez/Documents/DONNEES_SIMON/LPCNO/Synchrotron/SoleilSWING_octobre24/Notebook_traitement/kin21_light\\\\copied_png_files\\\\@corr_integration_@S_C_1_P_1@04893.png', 'file_num': '04893'}], 'pos_': [{'file_path': 'C:/Users/cayez/Documents/DONNEES_SIMON/LPCNO/Synchrotron/SoleilSWING_octobre24/Notebook_traitement/kin21_light\\\\copied_png_files\\\\@pos_@S_C_1_P_1@04893.png', 'file_num': '04893'}]}, 'S_C_1_P_4': {'basler': [{'file_path': 'C:/Users/cayez/Documents/DONNEES_SIMON/LPCNO/Synchrotron/SoleilSWING_octobre24/Notebook_traitement/kin21_light\\\\copied_png_files\\\\@basler@S_C_1_P_4@04896.png', 'file_num': '04896'}], 'eiger': [{'file_path': 'C:/Users/cayez/Documents/DONNEES_SIMON/LPCNO/Synchrotron/SoleilSWING_octobre24/Notebook_traitement/kin21_light\\\\copied_png_files\\\\@eiger@S_C_1_P_4@04896.png', 'file_num': '04896'}], 'corr_integration_': [{'file_path': 'C:/Users/cayez/Documents/DONNEES_SIMON/LPCNO/Synchrotron/SoleilSWING_octobre24/Notebook_traitement/kin21_light\\\\copied_png_files\\\\@corr_integration_@S_C_1_P_4@04896.png', 'file_num': '04896'}], 'pos_': [{'file_path': 'C:/Users/cayez/Documents/DONNEES_SIMON/LPCNO/Synchrotron/SoleilSWING_octobre24/Notebook_traitement/kin21_light\\\\copied_png_files\\\\@pos_@S_C_1_P_4@04896.png', 'file_num': '04896'}]}, 'S_C_2_P_35': {'basler': [{'file_path': 'C:/Users/cayez/Documents/DONNEES_SIMON/LPCNO/Synchrotron/SoleilSWING_octobre24/Notebook_traitement/kin21_light\\\\copied_png_files\\\\@basler@S_C_2_P_35@04962.png', 'file_num': '04962'}], 'eiger': [{'file_path': 'C:/Users/cayez/Documents/DONNEES_SIMON/LPCNO/Synchrotron/SoleilSWING_octobre24/Notebook_traitement/kin21_light\\\\copied_png_files\\\\@eiger@S_C_2_P_35@04962.png', 'file_num': '04962'}], 'corr_integration_': [{'file_path': 'C:/Users/cayez/Documents/DONNEES_SIMON/LPCNO/Synchrotron/SoleilSWING_octobre24/Notebook_traitement/kin21_light\\\\copied_png_files\\\\@corr_integration_@S_C_2_P_35@04962.png', 'file_num': '04962'}], 'pos_': [{'file_path': 'C:/Users/cayez/Documents/DONNEES_SIMON/LPCNO/Synchrotron/SoleilSWING_octobre24/Notebook_traitement/kin21_light\\\\copied_png_files\\\\@pos_@S_C_2_P_35@04962.png', 'file_num': '04962'}]}, 'S_C_2_P_4': {'basler': [{'file_path': 'C:/Users/cayez/Documents/DONNEES_SIMON/LPCNO/Synchrotron/SoleilSWING_octobre24/Notebook_traitement/kin21_light\\\\copied_png_files\\\\@basler@S_C_2_P_4@04931.png', 'file_num': '04931'}], 'eiger': [{'file_path': 'C:/Users/cayez/Documents/DONNEES_SIMON/LPCNO/Synchrotron/SoleilSWING_octobre24/Notebook_traitement/kin21_light\\\\copied_png_files\\\\@eiger@S_C_2_P_4@04931.png', 'file_num': '04931'}], 'corr_integration_': [{'file_path': 'C:/Users/cayez/Documents/DONNEES_SIMON/LPCNO/Synchrotron/SoleilSWING_octobre24/Notebook_traitement/kin21_light\\\\copied_png_files\\\\@corr_integration_@S_C_2_P_4@04931.png', 'file_num': '04931'}], 'pos_': [{'file_path': 'C:/Users/cayez/Documents/DONNEES_SIMON/LPCNO/Synchrotron/SoleilSWING_octobre24/Notebook_traitement/kin21_light\\\\copied_png_files\\\\@pos_@S_C_2_P_4@04931.png', 'file_num': '04931'}]}}\n"
     ]
    }
   ],
   "source": [
    "vst.create_grids_from_paths(folder)"
   ]
  },
  {
   "cell_type": "markdown",
   "metadata": {},
   "source": [
    "- Conversion en video"
   ]
  },
  {
   "cell_type": "code",
   "execution_count": 10,
   "metadata": {},
   "outputs": [
    {
     "name": "stdout",
     "output_type": "stream",
     "text": [
      "C:/Users/cayez/Documents/DONNEES_SIMON/LPCNO/Synchrotron/SoleilSWING_octobre24/Notebook_traitement/kin21_light\\grid_images\n",
      "Moviepy - Building video C:/Users/cayez/Documents/DONNEES_SIMON/LPCNO/Synchrotron/SoleilSWING_octobre24/Notebook_traitement/kin21_light\\video.mp4.\n",
      "Moviepy - Writing video C:/Users/cayez/Documents/DONNEES_SIMON/LPCNO/Synchrotron/SoleilSWING_octobre24/Notebook_traitement/kin21_light\\video.mp4\n",
      "\n"
     ]
    },
    {
     "name": "stderr",
     "output_type": "stream",
     "text": [
      "                                                          \r"
     ]
    },
    {
     "name": "stdout",
     "output_type": "stream",
     "text": [
      "Moviepy - Done !\n",
      "Moviepy - video ready C:/Users/cayez/Documents/DONNEES_SIMON/LPCNO/Synchrotron/SoleilSWING_octobre24/Notebook_traitement/kin21_light\\video.mp4\n",
      "Finished.\n"
     ]
    }
   ],
   "source": [
    "vst.convert_video(folder)"
   ]
  }
 ],
 "metadata": {
  "kernelspec": {
   "display_name": "ai_py311",
   "language": "python",
   "name": "python3"
  },
  "language_info": {
   "codemirror_mode": {
    "name": "ipython",
    "version": 3
   },
   "file_extension": ".py",
   "mimetype": "text/x-python",
   "name": "python",
   "nbconvert_exporter": "python",
   "pygments_lexer": "ipython3",
   "version": "3.11.9"
  }
 },
 "nbformat": 4,
 "nbformat_minor": 2
}
