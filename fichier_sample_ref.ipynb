{
 "cells": [
  {
   "cell_type": "markdown",
   "metadata": {},
   "source": [
    "# <center><u>RUN SWING SOLEIL octobre24</u></center>"
   ]
  },
  {
   "cell_type": "markdown",
   "metadata": {},
   "source": [
    "Ce notebook extrait les informations des fichiers h5 contenus dans un dossier. \n",
    "- Extrait dans un pandas dataframe le nom du fichier, sa transmission, son type, le sample name est utilisé pour determiner le \n",
    "canal et la position dans le cas où il est au format S_C_X_SF_X_P_X (S=Sample, R= ref, C= n°channel du capillaire,P=n°position dans le capillaire ,\n",
    "SF= Stop flow LF=LostFlow )\n",
    "- Associe un echantillon à sa référence dans un pandas datadrame suivant si le sample name commence par S ou F (asso)\n",
    "- Calcule les integrations corrigées à partir de l'association sample / ref\n",
    "- crée une vidèo à partir de l'ensemble des images"
   ]
  },
  {
   "cell_type": "code",
   "execution_count": 1,
   "metadata": {},
   "outputs": [],
   "source": [
    "import pandas as pd\n",
    "from matplotlib import pyplot as plt\n",
    "import numpy as np\n",
    "#import fabio\n",
    "import glob\n",
    "import os\n",
    "#import logging\n",
    "import SwingTools as st\n",
    "import VideoSwingTools as vst\n"
   ]
  },
  {
   "cell_type": "markdown",
   "metadata": {},
   "source": [
    "- Dossier de travail"
   ]
  },
  {
   "cell_type": "code",
   "execution_count": 2,
   "metadata": {},
   "outputs": [],
   "source": [
    "\n",
    "# folder = 'C:/Users/cayez/Documents/DONNEES_SIMON/LPCNO/Synchrotron/SoleilSWING_octobre24/Notebook_traitement/dryed_cappilary/'\n",
    "# folder = 'D:/swing/kin_11_ag_55deg'\n",
    "#folder = 'D:/swing/kin_21_au_500tes'\n",
    "#folder = 'D:/swing/test'\n",
    "#folder = 'C:/Users/cayez/Documents/DONNEES_SIMON/LPCNO/Synchrotron/SoleilSWING_octobre24/Notebook_traitement/dryed_cappilary/'\n",
    "#folder = 'T:/LPCNO/NCO/Manips/DATA_SAXS/2024_10_11_SWING_Rohan/20240444/2024/Run4/rodriguez_manipOK/kin_21_au_500tes'\n",
    "# folder = 'C:/Users/cayez/Documents/DONNEES_SIMON/LPCNO/Synchrotron/SoleilSWING_octobre24/Notebook_traitement/kin21_light'\n",
    "#folder = 'T:/LPCNO/NCO/Manips/DATA_SAXS/2024_10_11_SWING_Rohan/20240444/2024/Run4/rodriguez_manipOK/kin_24_au_250tes_rt'\n",
    "#folder = 'D:/SWING/to_do/kin_21_au_500tes_done'\n",
    "#folder = 'D:/SWING/to_do/kin_44_ag_80_tes480_s'\n",
    "\n",
    "folder = 'C:/Users/cayez/Documents/DONNEES_SIMON/LPCNO/Synchrotron/SoleilSWING_octobre24/Notebook_traitement/kin21_light'\n",
    "#folder = 'D:/SWING/to_do/kin_6'\n",
    "\n"
   ]
  },
  {
   "cell_type": "markdown",
   "metadata": {},
   "source": [
    "- Extraction des dataframe et csv"
   ]
  },
  {
   "cell_type": "code",
   "execution_count": 3,
   "metadata": {},
   "outputs": [
    {
     "name": "stdout",
     "output_type": "stream",
     "text": [
      "2024-10-12 11:21:04\n"
     ]
    }
   ],
   "source": [
    "df, asso = st.create_info_file(folder)"
   ]
  },
  {
   "cell_type": "code",
   "execution_count": 4,
   "metadata": {},
   "outputs": [
    {
     "data": {
      "text/html": [
       "<div>\n",
       "<style scoped>\n",
       "    .dataframe tbody tr th:only-of-type {\n",
       "        vertical-align: middle;\n",
       "    }\n",
       "\n",
       "    .dataframe tbody tr th {\n",
       "        vertical-align: top;\n",
       "    }\n",
       "\n",
       "    .dataframe thead th {\n",
       "        text-align: right;\n",
       "    }\n",
       "</style>\n",
       "<table border=\"1\" class=\"dataframe\">\n",
       "  <thead>\n",
       "    <tr style=\"text-align: right;\">\n",
       "      <th></th>\n",
       "      <th>File_sample</th>\n",
       "      <th>Sample name_sample</th>\n",
       "      <th>Mean Transmission_sample</th>\n",
       "      <th>Type_sample</th>\n",
       "      <th>Channel</th>\n",
       "      <th>Position</th>\n",
       "      <th>Time_sample</th>\n",
       "      <th>Flow_sample</th>\n",
       "      <th>File_ref</th>\n",
       "      <th>Sample name_ref</th>\n",
       "      <th>Mean Transmission_ref</th>\n",
       "      <th>Type_ref</th>\n",
       "      <th>Time_ref</th>\n",
       "      <th>Flow_ref</th>\n",
       "      <th>Time_ref_adjusted</th>\n",
       "    </tr>\n",
       "  </thead>\n",
       "  <tbody>\n",
       "    <tr>\n",
       "      <th>0</th>\n",
       "      <td>rodriguez_04893_2024-10-12_11-48-45.h5</td>\n",
       "      <td>S_C_1_P_1</td>\n",
       "      <td>0.633914</td>\n",
       "      <td>sample</td>\n",
       "      <td>1</td>\n",
       "      <td>1</td>\n",
       "      <td>2024-10-12 11:48:45</td>\n",
       "      <td>unknown</td>\n",
       "      <td>rodriguez_04823_2024-10-12_11-21-04.h5</td>\n",
       "      <td>R_C_1_P_1</td>\n",
       "      <td>0.774261</td>\n",
       "      <td>ref</td>\n",
       "      <td>2024-10-12 11:21:04</td>\n",
       "      <td>unknown</td>\n",
       "      <td>00:00:00</td>\n",
       "    </tr>\n",
       "    <tr>\n",
       "      <th>1</th>\n",
       "      <td>rodriguez_04896_2024-10-12_11-49-15.h5</td>\n",
       "      <td>S_C_1_P_4</td>\n",
       "      <td>0.629522</td>\n",
       "      <td>sample</td>\n",
       "      <td>1</td>\n",
       "      <td>4</td>\n",
       "      <td>2024-10-12 11:49:15</td>\n",
       "      <td>unknown</td>\n",
       "      <td>rodriguez_04826_2024-10-12_11-21-37.h5</td>\n",
       "      <td>R_C_1_P_4</td>\n",
       "      <td>0.772646</td>\n",
       "      <td>ref</td>\n",
       "      <td>2024-10-12 11:21:37</td>\n",
       "      <td>unknown</td>\n",
       "      <td>00:00:33</td>\n",
       "    </tr>\n",
       "    <tr>\n",
       "      <th>2</th>\n",
       "      <td>rodriguez_04931_2024-10-12_11-55-10.h5</td>\n",
       "      <td>S_C_2_P_4</td>\n",
       "      <td>0.616391</td>\n",
       "      <td>sample</td>\n",
       "      <td>2</td>\n",
       "      <td>4</td>\n",
       "      <td>2024-10-12 11:55:10</td>\n",
       "      <td>unknown</td>\n",
       "      <td>rodriguez_04861_2024-10-12_11-27-30.h5</td>\n",
       "      <td>R_C_2_P_4</td>\n",
       "      <td>0.766370</td>\n",
       "      <td>ref</td>\n",
       "      <td>2024-10-12 11:27:30</td>\n",
       "      <td>unknown</td>\n",
       "      <td>00:06:26</td>\n",
       "    </tr>\n",
       "    <tr>\n",
       "      <th>3</th>\n",
       "      <td>rodriguez_04962_2024-10-12_12-00-21.h5</td>\n",
       "      <td>S_C_2_P_35</td>\n",
       "      <td>0.611637</td>\n",
       "      <td>sample</td>\n",
       "      <td>2</td>\n",
       "      <td>35</td>\n",
       "      <td>2024-10-12 12:00:21</td>\n",
       "      <td>unknown</td>\n",
       "      <td>rodriguez_04892_2024-10-12_11-32-41.h5</td>\n",
       "      <td>R_C_2_P_35</td>\n",
       "      <td>0.765898</td>\n",
       "      <td>ref</td>\n",
       "      <td>2024-10-12 11:32:41</td>\n",
       "      <td>unknown</td>\n",
       "      <td>00:11:37</td>\n",
       "    </tr>\n",
       "  </tbody>\n",
       "</table>\n",
       "</div>"
      ],
      "text/plain": [
       "                              File_sample Sample name_sample  \\\n",
       "0  rodriguez_04893_2024-10-12_11-48-45.h5          S_C_1_P_1   \n",
       "1  rodriguez_04896_2024-10-12_11-49-15.h5          S_C_1_P_4   \n",
       "2  rodriguez_04931_2024-10-12_11-55-10.h5          S_C_2_P_4   \n",
       "3  rodriguez_04962_2024-10-12_12-00-21.h5         S_C_2_P_35   \n",
       "\n",
       "   Mean Transmission_sample Type_sample Channel Position          Time_sample  \\\n",
       "0                  0.633914      sample       1        1  2024-10-12 11:48:45   \n",
       "1                  0.629522      sample       1        4  2024-10-12 11:49:15   \n",
       "2                  0.616391      sample       2        4  2024-10-12 11:55:10   \n",
       "3                  0.611637      sample       2       35  2024-10-12 12:00:21   \n",
       "\n",
       "  Flow_sample                                File_ref Sample name_ref  \\\n",
       "0     unknown  rodriguez_04823_2024-10-12_11-21-04.h5       R_C_1_P_1   \n",
       "1     unknown  rodriguez_04826_2024-10-12_11-21-37.h5       R_C_1_P_4   \n",
       "2     unknown  rodriguez_04861_2024-10-12_11-27-30.h5       R_C_2_P_4   \n",
       "3     unknown  rodriguez_04892_2024-10-12_11-32-41.h5      R_C_2_P_35   \n",
       "\n",
       "   Mean Transmission_ref Type_ref            Time_ref Flow_ref  \\\n",
       "0               0.774261      ref 2024-10-12 11:21:04  unknown   \n",
       "1               0.772646      ref 2024-10-12 11:21:37  unknown   \n",
       "2               0.766370      ref 2024-10-12 11:27:30  unknown   \n",
       "3               0.765898      ref 2024-10-12 11:32:41  unknown   \n",
       "\n",
       "  Time_ref_adjusted  \n",
       "0          00:00:00  \n",
       "1          00:00:33  \n",
       "2          00:06:26  \n",
       "3          00:11:37  "
      ]
     },
     "execution_count": 4,
     "metadata": {},
     "output_type": "execute_result"
    }
   ],
   "source": [
    "asso.head()"
   ]
  },
  {
   "cell_type": "code",
   "execution_count": 5,
   "metadata": {},
   "outputs": [
    {
     "data": {
      "text/html": [
       "<div>\n",
       "<style scoped>\n",
       "    .dataframe tbody tr th:only-of-type {\n",
       "        vertical-align: middle;\n",
       "    }\n",
       "\n",
       "    .dataframe tbody tr th {\n",
       "        vertical-align: top;\n",
       "    }\n",
       "\n",
       "    .dataframe thead th {\n",
       "        text-align: right;\n",
       "    }\n",
       "</style>\n",
       "<table border=\"1\" class=\"dataframe\">\n",
       "  <thead>\n",
       "    <tr style=\"text-align: right;\">\n",
       "      <th></th>\n",
       "      <th>File</th>\n",
       "      <th>Sample name</th>\n",
       "      <th>Mean Transmission</th>\n",
       "      <th>Type</th>\n",
       "      <th>Channel</th>\n",
       "      <th>Position</th>\n",
       "      <th>Time</th>\n",
       "      <th>Flow</th>\n",
       "    </tr>\n",
       "  </thead>\n",
       "  <tbody>\n",
       "    <tr>\n",
       "      <th>0</th>\n",
       "      <td>rodriguez_04823_2024-10-12_11-21-04.h5</td>\n",
       "      <td>R_C_1_P_1</td>\n",
       "      <td>0.774261</td>\n",
       "      <td>ref</td>\n",
       "      <td>1</td>\n",
       "      <td>1</td>\n",
       "      <td>2024-10-12 11:21:04</td>\n",
       "      <td>unknown</td>\n",
       "    </tr>\n",
       "    <tr>\n",
       "      <th>1</th>\n",
       "      <td>rodriguez_04826_2024-10-12_11-21-37.h5</td>\n",
       "      <td>R_C_1_P_4</td>\n",
       "      <td>0.772646</td>\n",
       "      <td>ref</td>\n",
       "      <td>1</td>\n",
       "      <td>4</td>\n",
       "      <td>2024-10-12 11:21:37</td>\n",
       "      <td>unknown</td>\n",
       "    </tr>\n",
       "    <tr>\n",
       "      <th>2</th>\n",
       "      <td>rodriguez_04861_2024-10-12_11-27-30.h5</td>\n",
       "      <td>R_C_2_P_4</td>\n",
       "      <td>0.766370</td>\n",
       "      <td>ref</td>\n",
       "      <td>2</td>\n",
       "      <td>4</td>\n",
       "      <td>2024-10-12 11:27:30</td>\n",
       "      <td>unknown</td>\n",
       "    </tr>\n",
       "    <tr>\n",
       "      <th>3</th>\n",
       "      <td>rodriguez_04892_2024-10-12_11-32-41.h5</td>\n",
       "      <td>R_C_2_P_35</td>\n",
       "      <td>0.765898</td>\n",
       "      <td>ref</td>\n",
       "      <td>2</td>\n",
       "      <td>35</td>\n",
       "      <td>2024-10-12 11:32:41</td>\n",
       "      <td>unknown</td>\n",
       "    </tr>\n",
       "    <tr>\n",
       "      <th>4</th>\n",
       "      <td>rodriguez_04893_2024-10-12_11-48-45.h5</td>\n",
       "      <td>S_C_1_P_1</td>\n",
       "      <td>0.633914</td>\n",
       "      <td>sample</td>\n",
       "      <td>1</td>\n",
       "      <td>1</td>\n",
       "      <td>2024-10-12 11:48:45</td>\n",
       "      <td>unknown</td>\n",
       "    </tr>\n",
       "  </tbody>\n",
       "</table>\n",
       "</div>"
      ],
      "text/plain": [
       "                                     File Sample name  Mean Transmission  \\\n",
       "0  rodriguez_04823_2024-10-12_11-21-04.h5   R_C_1_P_1           0.774261   \n",
       "1  rodriguez_04826_2024-10-12_11-21-37.h5   R_C_1_P_4           0.772646   \n",
       "2  rodriguez_04861_2024-10-12_11-27-30.h5   R_C_2_P_4           0.766370   \n",
       "3  rodriguez_04892_2024-10-12_11-32-41.h5  R_C_2_P_35           0.765898   \n",
       "4  rodriguez_04893_2024-10-12_11-48-45.h5   S_C_1_P_1           0.633914   \n",
       "\n",
       "     Type Channel Position                 Time     Flow  \n",
       "0     ref       1        1  2024-10-12 11:21:04  unknown  \n",
       "1     ref       1        4  2024-10-12 11:21:37  unknown  \n",
       "2     ref       2        4  2024-10-12 11:27:30  unknown  \n",
       "3     ref       2       35  2024-10-12 11:32:41  unknown  \n",
       "4  sample       1        1  2024-10-12 11:48:45  unknown  "
      ]
     },
     "execution_count": 5,
     "metadata": {},
     "output_type": "execute_result"
    }
   ],
   "source": [
    "df.head()"
   ]
  },
  {
   "cell_type": "code",
   "execution_count": 6,
   "metadata": {},
   "outputs": [
    {
     "name": "stdout",
     "output_type": "stream",
     "text": [
      "10\n",
      "4\n"
     ]
    }
   ],
   "source": [
    "\n",
    "print(len(df))\n",
    "print(len(asso))"
   ]
  },
  {
   "cell_type": "markdown",
   "metadata": {},
   "source": [
    "- Calcul des corrections s'integration et sauvegarde des fichiers correspondant"
   ]
  },
  {
   "cell_type": "code",
   "execution_count": 7,
   "metadata": {},
   "outputs": [
    {
     "name": "stdout",
     "output_type": "stream",
     "text": [
      "C:/Users/cayez/Documents/DONNEES_SIMON/LPCNO/Synchrotron/SoleilSWING_octobre24/Notebook_traitement/kin21_light\\S_C_2_P_35_04962\\positions/@pos_@S_C_2_P_35@04962.png\n",
      "File: 4 on 4 \n"
     ]
    }
   ],
   "source": [
    "#maskfile = 'mask.edf'\n",
    "maskfile = 'macro_mask/mask_waxs_eiger_ruiz_oct24.edf'\n",
    "\n",
    "coef = 0.0181 \n",
    "st.integration_correction(folder,asso,maskfile,coef)"
   ]
  },
  {
   "cell_type": "markdown",
   "metadata": {},
   "source": [
    "- récupération des fichiers et création de la video"
   ]
  },
  {
   "cell_type": "code",
   "execution_count": 8,
   "metadata": {},
   "outputs": [
    {
     "name": "stdout",
     "output_type": "stream",
     "text": [
      "{'S_C_1_P_1': {'basler': ['C:/Users/cayez/Documents/DONNEES_SIMON/LPCNO/Synchrotron/SoleilSWING_octobre24/Notebook_traitement/kin21_light\\\\copied_png_files\\\\@basler@S_C_1_P_1@04893.png'], 'eiger': ['C:/Users/cayez/Documents/DONNEES_SIMON/LPCNO/Synchrotron/SoleilSWING_octobre24/Notebook_traitement/kin21_light\\\\copied_png_files\\\\@eiger@S_C_1_P_1@04893.png'], 'corr_integration_': ['C:/Users/cayez/Documents/DONNEES_SIMON/LPCNO/Synchrotron/SoleilSWING_octobre24/Notebook_traitement/kin21_light\\\\copied_png_files\\\\@corr_integration_@S_C_1_P_1@04893.png'], 'pos_': ['C:/Users/cayez/Documents/DONNEES_SIMON/LPCNO/Synchrotron/SoleilSWING_octobre24/Notebook_traitement/kin21_light\\\\copied_png_files\\\\@pos_@S_C_1_P_1@04893.png']}, 'S_C_1_P_4': {'basler': ['C:/Users/cayez/Documents/DONNEES_SIMON/LPCNO/Synchrotron/SoleilSWING_octobre24/Notebook_traitement/kin21_light\\\\copied_png_files\\\\@basler@S_C_1_P_4@04896.png'], 'eiger': ['C:/Users/cayez/Documents/DONNEES_SIMON/LPCNO/Synchrotron/SoleilSWING_octobre24/Notebook_traitement/kin21_light\\\\copied_png_files\\\\@eiger@S_C_1_P_4@04896.png'], 'corr_integration_': ['C:/Users/cayez/Documents/DONNEES_SIMON/LPCNO/Synchrotron/SoleilSWING_octobre24/Notebook_traitement/kin21_light\\\\copied_png_files\\\\@corr_integration_@S_C_1_P_4@04896.png'], 'pos_': ['C:/Users/cayez/Documents/DONNEES_SIMON/LPCNO/Synchrotron/SoleilSWING_octobre24/Notebook_traitement/kin21_light\\\\copied_png_files\\\\@pos_@S_C_1_P_4@04896.png']}, 'S_C_2_P_35': {'basler': ['C:/Users/cayez/Documents/DONNEES_SIMON/LPCNO/Synchrotron/SoleilSWING_octobre24/Notebook_traitement/kin21_light\\\\copied_png_files\\\\@basler@S_C_2_P_35@04962.png'], 'eiger': ['C:/Users/cayez/Documents/DONNEES_SIMON/LPCNO/Synchrotron/SoleilSWING_octobre24/Notebook_traitement/kin21_light\\\\copied_png_files\\\\@eiger@S_C_2_P_35@04962.png'], 'corr_integration_': ['C:/Users/cayez/Documents/DONNEES_SIMON/LPCNO/Synchrotron/SoleilSWING_octobre24/Notebook_traitement/kin21_light\\\\copied_png_files\\\\@corr_integration_@S_C_2_P_35@04962.png'], 'pos_': ['C:/Users/cayez/Documents/DONNEES_SIMON/LPCNO/Synchrotron/SoleilSWING_octobre24/Notebook_traitement/kin21_light\\\\copied_png_files\\\\@pos_@S_C_2_P_35@04962.png']}, 'S_C_2_P_4': {'basler': ['C:/Users/cayez/Documents/DONNEES_SIMON/LPCNO/Synchrotron/SoleilSWING_octobre24/Notebook_traitement/kin21_light\\\\copied_png_files\\\\@basler@S_C_2_P_4@04931.png'], 'eiger': ['C:/Users/cayez/Documents/DONNEES_SIMON/LPCNO/Synchrotron/SoleilSWING_octobre24/Notebook_traitement/kin21_light\\\\copied_png_files\\\\@eiger@S_C_2_P_4@04931.png'], 'corr_integration_': ['C:/Users/cayez/Documents/DONNEES_SIMON/LPCNO/Synchrotron/SoleilSWING_octobre24/Notebook_traitement/kin21_light\\\\copied_png_files\\\\@corr_integration_@S_C_2_P_4@04931.png'], 'pos_': ['C:/Users/cayez/Documents/DONNEES_SIMON/LPCNO/Synchrotron/SoleilSWING_octobre24/Notebook_traitement/kin21_light\\\\copied_png_files\\\\@pos_@S_C_2_P_4@04931.png']}}\n"
     ]
    }
   ],
   "source": [
    "vst.copy_png_files(folder)\n",
    "vst.create_grids_from_paths(folder)\n",
    "# vst.convert_video(folder)\n"
   ]
  },
  {
   "cell_type": "code",
   "execution_count": 9,
   "metadata": {},
   "outputs": [],
   "source": [
    "# import os\n",
    "# import glob\n",
    "\n",
    "# image_files = 'D:/SWING/to_do/kin_21_au_500tes'+'/grid_images'\n",
    "\n",
    "# def sort_filenames(image_files):\n",
    "#     # Custom sorting function\n",
    "#     def sort_key(filename):\n",
    "#         # Extract the number after C_\n",
    "#         c_number = int(filename.split('C_')[1].split('_')[0])\n",
    "#         # Extract the number after P_\n",
    "#         p_number = int(filename.split('P_')[1].split('_')[0])\n",
    "#         return (c_number, p_number)\n",
    "\n",
    "#     # Sort the image files using the custom key\n",
    "#     sorted_files = sorted(image_files, key=sort_key)\n",
    "    \n",
    "#     return sorted_files\n",
    "\n",
    "# # Example usage\n",
    "# image_folder = \"D:/SWING/to_do/kin_21_au_500tes/grid_images\"\n",
    "# image_files = glob.glob(image_folder + '/*.png')  # Get all PNG files\n",
    "\n",
    "# sorted_image_files = sort_filenames(image_files)\n"
   ]
  },
  {
   "cell_type": "code",
   "execution_count": 10,
   "metadata": {},
   "outputs": [],
   "source": [
    "# #OK---------------------\n",
    "# from moviepy.editor import ImageSequenceClip\n",
    "# def convert_video(image_folder):\n",
    "#     # Specify the path to your images\n",
    "#     video_folder = os.path.join(image_folder, 'grid_images')\n",
    "#     print(video_folder)\n",
    "#     # Check if the video folder exists\n",
    "#     if not os.path.exists(video_folder):\n",
    "#         print(\"The video folder does not exist.\")\n",
    "#         return\n",
    "    \n",
    "    \n",
    "#     if not image_files:\n",
    "#         print(\"No images found in the specified folder.\")\n",
    "#         return\n",
    "#     # Create a video clip from the images\n",
    "#     clip = ImageSequenceClip(sorted_image_files, fps=2)  # Set the desired frames per second (fps)\n",
    "#     # Write the video file\n",
    "#     clip.write_videofile(os.path.join(image_folder, 'video.mp4'), codec='libx264')  # Output video\n",
    "#     # Delete the video folder\n",
    "#     #shutil.rmtree(video_folder)\n",
    "#     print(\"Finished.\")"
   ]
  },
  {
   "cell_type": "code",
   "execution_count": 11,
   "metadata": {},
   "outputs": [],
   "source": [
    "from moviepy.editor import ImageSequenceClip\n",
    "def sort_filenames(image_files):\n",
    "    # Custom sorting function\n",
    "    def sort_key(filename):\n",
    "        # Extract the number after C_\n",
    "        c_number = int(filename.split('C_')[1].split('_')[0])\n",
    "        # Extract the number after P_\n",
    "        p_number = int(filename.split('P_')[1].split('_')[0])\n",
    "        return (c_number, p_number)\n",
    "\n",
    "    # Sort the image files using the custom key\n",
    "    sorted_files = sorted(image_files, key=sort_key)\n",
    "    \n",
    "    return sorted_files\n",
    "\n",
    "def convert_video(image_folder):\n",
    "    # Specify the path to your images\n",
    "    video_folder = os.path.join(image_folder, 'grid_images')\n",
    "    \n",
    "\n",
    "    print(video_folder)\n",
    "    # Check if the video folder exists\n",
    "    if not os.path.exists(video_folder):\n",
    "        print(\"The video folder does not exist.\")\n",
    "        return\n",
    "    # Create a list of image files in the video folder\n",
    "    image_files = glob.glob(video_folder + '/*.png')  # Get all PNG files\n",
    "    # Sort the image files using the custom sort function\n",
    "    sorted_image_files = sort_filenames(image_files)\n",
    "    \n",
    "    if not sorted_image_files:\n",
    "        print(\"No images found in the specified folder.\")\n",
    "        return\n",
    "    # Create a video clip from the images\n",
    "    clip = ImageSequenceClip(sorted_image_files, fps=2)  # Set the desired frames per second (fps)\n",
    "    # Write the video file\n",
    "    clip.write_videofile(os.path.join(image_folder, 'video.mp4'), codec='libx264')  # Output video\n",
    "    # Delete the video folder\n",
    "    #shutil.rmtree(video_folder)\n",
    "    print(\"Finished.\")\n"
   ]
  },
  {
   "cell_type": "code",
   "execution_count": 12,
   "metadata": {},
   "outputs": [
    {
     "name": "stdout",
     "output_type": "stream",
     "text": [
      "C:/Users/cayez/Documents/DONNEES_SIMON/LPCNO/Synchrotron/SoleilSWING_octobre24/Notebook_traitement/kin21_light\\grid_images\n",
      "Moviepy - Building video C:/Users/cayez/Documents/DONNEES_SIMON/LPCNO/Synchrotron/SoleilSWING_octobre24/Notebook_traitement/kin21_light\\video.mp4.\n",
      "Moviepy - Writing video C:/Users/cayez/Documents/DONNEES_SIMON/LPCNO/Synchrotron/SoleilSWING_octobre24/Notebook_traitement/kin21_light\\video.mp4\n",
      "\n"
     ]
    },
    {
     "name": "stderr",
     "output_type": "stream",
     "text": [
      "                                                          \r"
     ]
    },
    {
     "name": "stdout",
     "output_type": "stream",
     "text": [
      "Moviepy - Done !\n",
      "Moviepy - video ready C:/Users/cayez/Documents/DONNEES_SIMON/LPCNO/Synchrotron/SoleilSWING_octobre24/Notebook_traitement/kin21_light\\video.mp4\n",
      "Finished.\n"
     ]
    }
   ],
   "source": [
    "convert_video(folder)"
   ]
  },
  {
   "cell_type": "code",
   "execution_count": null,
   "metadata": {},
   "outputs": [],
   "source": []
  },
  {
   "cell_type": "markdown",
   "metadata": {},
   "source": [
    "- Mnipuler les temps dans asso: soustraire le temps mini pour debuter à 0"
   ]
  },
  {
   "cell_type": "code",
   "execution_count": 13,
   "metadata": {},
   "outputs": [],
   "source": [
    "# asso['Time_ref'] = pd.to_datetime(asso['Time_ref'])\n",
    "# min_time_ref = asso['Time_ref'].min()\n",
    "# print(min_time_ref)\n",
    "# asso['Time_ref_adjusted'] = asso['Time_ref'] - min_time_ref\n",
    "# #depasser 24h mais ne pas compter les jours\n",
    "# asso['Time_ref_adjusted'] =asso['Time_ref_adjusted'].apply(lambda x: str(x).split(' ')[2] if pd.notnull(x) else '00:00:00')\n",
    "# asso.head()"
   ]
  },
  {
   "cell_type": "code",
   "execution_count": 14,
   "metadata": {},
   "outputs": [],
   "source": [
    "# import os\n",
    "# import shutil\n",
    "# from PIL import Image\n",
    "# import glob\n",
    "# from moviepy.editor import ImageSequenceClip\n",
    "\n",
    "\n",
    "\n",
    "# def copy_png_files(source_directory):\n",
    "#     # Define the target folder where the PNG files will be copied\n",
    "#     target_directory = os.path.join(source_directory, 'copied_png_files')\n",
    "    \n",
    "#     # Create the target directory if it doesn't exist\n",
    "#     os.makedirs(target_directory, exist_ok=True)\n",
    "    \n",
    "#     # Specify the folders to look for\n",
    "#     target_folders = [ 'Eiger_image','basler_image', 'integration_corr', 'positions']\n",
    "    \n",
    "#     # Loop through each subfolder in the source directory\n",
    "#     for subfolder in os.listdir(source_directory):\n",
    "#         subfolder_path = os.path.join(source_directory, subfolder)\n",
    "        \n",
    "#         # Check if it's a directory\n",
    "#         if os.path.isdir(subfolder_path):\n",
    "#             # Loop through each specified folder\n",
    "#             for folder in target_folders:\n",
    "#                 folder_path = os.path.join(subfolder_path, folder)\n",
    "                \n",
    "#                 # Check if the specified folder exists\n",
    "#                 if os.path.isdir(folder_path):\n",
    "#                     # Loop through each file in the folder\n",
    "#                     for file in os.listdir(folder_path):\n",
    "#                         if file.endswith('.png'):\n",
    "#                             # Construct full file path\n",
    "#                             file_path = os.path.join(folder_path, file)\n",
    "#                             # Copy the file to the target directory\n",
    "#                             shutil.copy(file_path, target_directory)\n",
    "\n",
    "\n",
    " \n",
    "# def group_filenames(folder):\n",
    "#     folder_path = os.path.join(folder, 'copied_png_files')  # Corrected path joining\n",
    "\n",
    "#     # Initialize a dictionary to hold lists of file paths by reference\n",
    "#     file_paths_dict = {}\n",
    "\n",
    "#     # Loop through all .png files in the specified folder\n",
    "#     for file_path in glob.glob(os.path.join(folder_path, '*.png')):\n",
    "#         # Extract the reference (S_C_X_P_X) part and category\n",
    "#         reference = file_path.split('@')[-2].split('.png')[0]\n",
    "#         category = file_path.split('@')[-3]  # Extract the category\n",
    "\n",
    "#         # Initialize the reference in the dictionary if not already present\n",
    "#         if reference not in file_paths_dict:\n",
    "#             file_paths_dict[reference] = {\n",
    "#                 'basler': [],\n",
    "#                 'eiger': [],\n",
    "#                 'corr_integration_': [],\n",
    "#                 'pos_': []\n",
    "#             }\n",
    "\n",
    "#         # Append the file path to the appropriate category list\n",
    "#         if category in file_paths_dict[reference]:\n",
    "#             file_paths_dict[reference][category].append(file_path)\n",
    "\n",
    "#     return file_paths_dict\n",
    "# def create_grids_from_paths(folder):\n",
    "#     file_paths_dict = group_filenames(folder)\n",
    "#     grid_folder = os.path.join(folder, 'grid_images')\n",
    "#     if not os.path.exists(grid_folder):\n",
    "#         os.makedirs(grid_folder)\n",
    "#     # Iterate over each reference and create grids\n",
    "#     print(file_paths_dict)\n",
    "#     i=1\n",
    "#     for reference, categories in file_paths_dict.items():\n",
    "#         # Collect images for the grid\n",
    "#         images = []\n",
    "#         for category in ['eiger', 'basler', 'corr_integration_', 'pos_']:\n",
    "#             if category in categories and categories[category]:\n",
    "#                 # Load the first image from each category\n",
    "#                 img_path = categories[category][0]\n",
    "#                 img = Image.open(img_path)\n",
    "#                 images.append(img)\n",
    "\n",
    "#         # Create a grid if we have enough images\n",
    "#         if len(images) == 4:  # We need exactly 4 images for a 2x2 grid\n",
    "#             grid_image = create_image_grid(images, grid_size=(2, 2))\n",
    "#             #grid_image.show()  # Display the grid image\n",
    "#             # Optionally save the grid image\n",
    "#             #grid_image.save(os.path.join(grid_folder, f\"{reference}_grid.png\"))\n",
    "#             grid_image.save(os.path.join(grid_folder, f\"{reference}_grid_{i:04}.png\"))\n",
    "           \n",
    "#             i+=1\n",
    "\n",
    "\n",
    "# def create_image_grid(images, grid_size=(2, 2)):\n",
    "#     \"\"\"Create a new image from a list of images arranged in a grid.\"\"\"\n",
    "#     # Calculate the size of the new image\n",
    "#     img_width, img_height = images[0].size\n",
    "#     new_image = Image.new('RGB', (img_width * grid_size[0], img_height * grid_size[1]))\n",
    "\n",
    "#     # Paste images into the new image\n",
    "#     for index, img in enumerate(images):\n",
    "#         x = (index % grid_size[0]) * img_width\n",
    "#         y = (index // grid_size[0]) * img_height\n",
    "#         new_image.paste(img, (x, y))\n",
    "    \n",
    "#     return new_image\n",
    "\n"
   ]
  },
  {
   "cell_type": "code",
   "execution_count": 15,
   "metadata": {},
   "outputs": [],
   "source": [
    "# copy_png_files(folder)\n",
    "# create_grids_from_paths(folder)"
   ]
  },
  {
   "cell_type": "code",
   "execution_count": null,
   "metadata": {},
   "outputs": [],
   "source": []
  }
 ],
 "metadata": {
  "kernelspec": {
   "display_name": "ai_py311",
   "language": "python",
   "name": "python3"
  },
  "language_info": {
   "codemirror_mode": {
    "name": "ipython",
    "version": 3
   },
   "file_extension": ".py",
   "mimetype": "text/x-python",
   "name": "python",
   "nbconvert_exporter": "python",
   "pygments_lexer": "ipython3",
   "version": "3.11.9"
  }
 },
 "nbformat": 4,
 "nbformat_minor": 2
}
